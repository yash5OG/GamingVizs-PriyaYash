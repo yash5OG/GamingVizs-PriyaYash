{
 "cells": [
  {
   "cell_type": "code",
   "execution_count": 1,
   "metadata": {},
   "outputs": [],
   "source": [
    "import matplotlib.pyplot as plt\n",
    "import pandas as pd\n",
    "import numpy as np\n",
    "import requests\n",
    "import time\n",
    "from scipy.stats import linregress\n",
    "import psycopg2\n",
    "from sqlalchemy import create_engine, MetaData, Table, Column, Integer, String, Float\n",
    "from api_keys import client_id\n",
    "from twitch import TwitchClient\n",
    "from pprint import pprint"
   ]
  },
  {
   "cell_type": "code",
   "execution_count": 2,
   "metadata": {},
   "outputs": [],
   "source": [
    "client = TwitchClient(client_id= f'{client_id}')"
   ]
  },
  {
   "cell_type": "code",
   "execution_count": 3,
   "metadata": {},
   "outputs": [
    {
     "name": "stdout",
     "output_type": "stream",
     "text": [
      "{'average_fps': 60,\n",
      " 'broadcast_platform': 'live',\n",
      " 'channel': {'broadcaster_language': 'en',\n",
      "             'broadcaster_software': '',\n",
      "             'broadcaster_type': '',\n",
      "             'created_at': datetime.datetime(2014, 9, 12, 23, 50, 5, 989719),\n",
      "             'description': 'Overwatch Professional tank player and full time '\n",
      "                            'streamer. EZ Clap',\n",
      "             'display_name': 'xQcOW',\n",
      "             'followers': 5512812,\n",
      "             'game': 'Minecraft',\n",
      "             'id': 71092938,\n",
      "             'language': 'en',\n",
      "             'logo': 'https://static-cdn.jtvnw.net/jtv_user_pictures/xqcow-profile_image-9298dca608632101-300x300.jpeg',\n",
      "             'mature': False,\n",
      "             'name': 'xqcow',\n",
      "             'partner': True,\n",
      "             'privacy_options_enabled': False,\n",
      "             'private_video': False,\n",
      "             'profile_banner': 'https://static-cdn.jtvnw.net/jtv_user_pictures/83e86af1-9a6c-42b1-98e2-3f6238a744b5-profile_banner-480.png',\n",
      "             'profile_banner_background_color': '',\n",
      "             'status': 'EXCEPTIONALLY UNLUCKY GAMING WIZARD SMASHES ALL '\n",
      "                       'RECORDS AGAINST ALL ODDS',\n",
      "             'updated_at': datetime.datetime(2021, 4, 23, 4, 11, 0, 505187),\n",
      "             'url': 'https://www.twitch.tv/xqcow',\n",
      "             'video_banner': 'https://static-cdn.jtvnw.net/jtv_user_pictures/cd4e260a-7ea8-476c-af64-a151838add9a-channel_offline_image-1920x1080.png',\n",
      "             'views': 327236000},\n",
      " 'community_id': '',\n",
      " 'community_ids': [],\n",
      " 'created_at': datetime.datetime(2021, 4, 22, 22, 49, 23),\n",
      " 'delay': 0,\n",
      " 'game': 'Minecraft',\n",
      " 'id': 41538241261,\n",
      " 'is_playlist': False,\n",
      " 'preview': {'large': 'https://static-cdn.jtvnw.net/previews-ttv/live_user_xqcow-640x360.jpg',\n",
      "             'medium': 'https://static-cdn.jtvnw.net/previews-ttv/live_user_xqcow-320x180.jpg',\n",
      "             'small': 'https://static-cdn.jtvnw.net/previews-ttv/live_user_xqcow-80x45.jpg',\n",
      "             'template': 'https://static-cdn.jtvnw.net/previews-ttv/live_user_xqcow-{width}x{height}.jpg'},\n",
      " 'stream_type': 'live',\n",
      " 'video_height': 1080,\n",
      " 'viewers': 108196}\n"
     ]
    }
   ],
   "source": [
    "#getting live streams data\n",
    "\n",
    "live_streams = client.streams.get_live_streams(limit = 100)\n",
    "pprint(live_streams[0])"
   ]
  },
  {
   "cell_type": "code",
   "execution_count": 28,
   "metadata": {},
   "outputs": [
    {
     "data": {
      "text/html": [
       "<div>\n",
       "<style scoped>\n",
       "    .dataframe tbody tr th:only-of-type {\n",
       "        vertical-align: middle;\n",
       "    }\n",
       "\n",
       "    .dataframe tbody tr th {\n",
       "        vertical-align: top;\n",
       "    }\n",
       "\n",
       "    .dataframe thead th {\n",
       "        text-align: right;\n",
       "    }\n",
       "</style>\n",
       "<table border=\"1\" class=\"dataframe\">\n",
       "  <thead>\n",
       "    <tr style=\"text-align: right;\">\n",
       "      <th></th>\n",
       "      <th>0</th>\n",
       "    </tr>\n",
       "  </thead>\n",
       "  <tbody>\n",
       "    <tr>\n",
       "      <th>small</th>\n",
       "      <td>https://static-cdn.jtvnw.net/previews-ttv/live...</td>\n",
       "    </tr>\n",
       "    <tr>\n",
       "      <th>medium</th>\n",
       "      <td>https://static-cdn.jtvnw.net/previews-ttv/live...</td>\n",
       "    </tr>\n",
       "    <tr>\n",
       "      <th>large</th>\n",
       "      <td>https://static-cdn.jtvnw.net/previews-ttv/live...</td>\n",
       "    </tr>\n",
       "    <tr>\n",
       "      <th>template</th>\n",
       "      <td>https://static-cdn.jtvnw.net/previews-ttv/live...</td>\n",
       "    </tr>\n",
       "  </tbody>\n",
       "</table>\n",
       "</div>"
      ],
      "text/plain": [
       "                                                          0\n",
       "small     https://static-cdn.jtvnw.net/previews-ttv/live...\n",
       "medium    https://static-cdn.jtvnw.net/previews-ttv/live...\n",
       "large     https://static-cdn.jtvnw.net/previews-ttv/live...\n",
       "template  https://static-cdn.jtvnw.net/previews-ttv/live..."
      ]
     },
     "execution_count": 28,
     "metadata": {},
     "output_type": "execute_result"
    }
   ],
   "source": [
    "lsdf = pd.DataFrame.from_dict(live_streams[0].preview, orient = 'index')\n",
    "#live_streams[0].values()\n",
    "lsdf"
   ]
  },
  {
   "cell_type": "code",
   "execution_count": 13,
   "metadata": {},
   "outputs": [
    {
     "ename": "ValueError",
     "evalue": "DataFrame constructor not properly called!",
     "output_type": "error",
     "traceback": [
      "\u001b[1;31m---------------------------------------------------------------------------\u001b[0m",
      "\u001b[1;31mValueError\u001b[0m                                Traceback (most recent call last)",
      "\u001b[1;32m<ipython-input-13-617c990a3ebb>\u001b[0m in \u001b[0;36m<module>\u001b[1;34m\u001b[0m\n\u001b[1;32m----> 1\u001b[1;33m \u001b[0mdf\u001b[0m \u001b[1;33m=\u001b[0m \u001b[0mpd\u001b[0m\u001b[1;33m.\u001b[0m\u001b[0mconcat\u001b[0m\u001b[1;33m(\u001b[0m\u001b[1;33m{\u001b[0m\u001b[0mk\u001b[0m\u001b[1;33m:\u001b[0m \u001b[0mpd\u001b[0m\u001b[1;33m.\u001b[0m\u001b[0mDataFrame\u001b[0m\u001b[1;33m(\u001b[0m\u001b[0mv\u001b[0m\u001b[1;33m)\u001b[0m\u001b[1;33m.\u001b[0m\u001b[0mT\u001b[0m \u001b[1;32mfor\u001b[0m \u001b[0mk\u001b[0m\u001b[1;33m,\u001b[0m \u001b[0mv\u001b[0m \u001b[1;32min\u001b[0m \u001b[0mlive_streams\u001b[0m\u001b[1;33m[\u001b[0m\u001b[1;36m0\u001b[0m\u001b[1;33m]\u001b[0m\u001b[1;33m.\u001b[0m\u001b[0mitems\u001b[0m\u001b[1;33m(\u001b[0m\u001b[1;33m)\u001b[0m\u001b[1;33m}\u001b[0m\u001b[1;33m,\u001b[0m \u001b[0maxis\u001b[0m\u001b[1;33m=\u001b[0m\u001b[1;36m0\u001b[0m\u001b[1;33m)\u001b[0m\u001b[1;33m\u001b[0m\u001b[1;33m\u001b[0m\u001b[0m\n\u001b[0m",
      "\u001b[1;32m<ipython-input-13-617c990a3ebb>\u001b[0m in \u001b[0;36m<dictcomp>\u001b[1;34m(.0)\u001b[0m\n\u001b[1;32m----> 1\u001b[1;33m \u001b[0mdf\u001b[0m \u001b[1;33m=\u001b[0m \u001b[0mpd\u001b[0m\u001b[1;33m.\u001b[0m\u001b[0mconcat\u001b[0m\u001b[1;33m(\u001b[0m\u001b[1;33m{\u001b[0m\u001b[0mk\u001b[0m\u001b[1;33m:\u001b[0m \u001b[0mpd\u001b[0m\u001b[1;33m.\u001b[0m\u001b[0mDataFrame\u001b[0m\u001b[1;33m(\u001b[0m\u001b[0mv\u001b[0m\u001b[1;33m)\u001b[0m\u001b[1;33m.\u001b[0m\u001b[0mT\u001b[0m \u001b[1;32mfor\u001b[0m \u001b[0mk\u001b[0m\u001b[1;33m,\u001b[0m \u001b[0mv\u001b[0m \u001b[1;32min\u001b[0m \u001b[0mlive_streams\u001b[0m\u001b[1;33m[\u001b[0m\u001b[1;36m0\u001b[0m\u001b[1;33m]\u001b[0m\u001b[1;33m.\u001b[0m\u001b[0mitems\u001b[0m\u001b[1;33m(\u001b[0m\u001b[1;33m)\u001b[0m\u001b[1;33m}\u001b[0m\u001b[1;33m,\u001b[0m \u001b[0maxis\u001b[0m\u001b[1;33m=\u001b[0m\u001b[1;36m0\u001b[0m\u001b[1;33m)\u001b[0m\u001b[1;33m\u001b[0m\u001b[1;33m\u001b[0m\u001b[0m\n\u001b[0m",
      "\u001b[1;32m~\\anaconda3\\lib\\site-packages\\pandas\\core\\frame.py\u001b[0m in \u001b[0;36m__init__\u001b[1;34m(self, data, index, columns, dtype, copy)\u001b[0m\n\u001b[0;32m    588\u001b[0m         \u001b[1;32melse\u001b[0m\u001b[1;33m:\u001b[0m\u001b[1;33m\u001b[0m\u001b[1;33m\u001b[0m\u001b[0m\n\u001b[0;32m    589\u001b[0m             \u001b[1;32mif\u001b[0m \u001b[0mindex\u001b[0m \u001b[1;32mis\u001b[0m \u001b[1;32mNone\u001b[0m \u001b[1;32mor\u001b[0m \u001b[0mcolumns\u001b[0m \u001b[1;32mis\u001b[0m \u001b[1;32mNone\u001b[0m\u001b[1;33m:\u001b[0m\u001b[1;33m\u001b[0m\u001b[1;33m\u001b[0m\u001b[0m\n\u001b[1;32m--> 590\u001b[1;33m                 \u001b[1;32mraise\u001b[0m \u001b[0mValueError\u001b[0m\u001b[1;33m(\u001b[0m\u001b[1;34m\"DataFrame constructor not properly called!\"\u001b[0m\u001b[1;33m)\u001b[0m\u001b[1;33m\u001b[0m\u001b[1;33m\u001b[0m\u001b[0m\n\u001b[0m\u001b[0;32m    591\u001b[0m \u001b[1;33m\u001b[0m\u001b[0m\n\u001b[0;32m    592\u001b[0m             \u001b[1;32mif\u001b[0m \u001b[1;32mnot\u001b[0m \u001b[0mdtype\u001b[0m\u001b[1;33m:\u001b[0m\u001b[1;33m\u001b[0m\u001b[1;33m\u001b[0m\u001b[0m\n",
      "\u001b[1;31mValueError\u001b[0m: DataFrame constructor not properly called!"
     ]
    }
   ],
   "source": [
    "df = pd.concat({k: pd.DataFrame(v).T for k, v in live_streams[0].items()}, axis=0)"
   ]
  },
  {
   "cell_type": "code",
   "execution_count": null,
   "metadata": {},
   "outputs": [],
   "source": []
  },
  {
   "cell_type": "code",
   "execution_count": null,
   "metadata": {},
   "outputs": [],
   "source": []
  },
  {
   "cell_type": "code",
   "execution_count": null,
   "metadata": {},
   "outputs": [],
   "source": []
  },
  {
   "cell_type": "code",
   "execution_count": 11,
   "metadata": {},
   "outputs": [
    {
     "name": "stdout",
     "output_type": "stream",
     "text": [
      "{'animated_preview_url': 'https://dgeft87wbj63p.cloudfront.net/05d6d8afdaa9004a3b8a_auronplay_41795588844_1618667827/storyboards/990811453-strip-0.jpg',\n",
      " 'broadcast_id': 41795588844,\n",
      " 'broadcast_type': 'archive',\n",
      " 'channel': {'broadcaster_language': 'es',\n",
      "             'broadcaster_software': 'unknown_rtmp',\n",
      "             'broadcaster_type': 'partner',\n",
      "             'created_at': datetime.datetime(2019, 9, 3, 14, 2, 49, 15250),\n",
      "             'description': 'feliz pero no mucho ',\n",
      "             'display_name': 'auronplay',\n",
      "             'followers': 8210557,\n",
      "             'game': 'Grand Theft Auto V',\n",
      "             'id': 459331509,\n",
      "             'language': 'es',\n",
      "             'logo': 'https://static-cdn.jtvnw.net/jtv_user_pictures/ec898e4a-e0df-4dc0-a99d-7540c6dbe1e8-profile_image-300x300.png',\n",
      "             'mature': False,\n",
      "             'name': 'auronplay',\n",
      "             'partner': True,\n",
      "             'privacy_options_enabled': False,\n",
      "             'private_video': False,\n",
      "             'profile_banner': 'https://static-cdn.jtvnw.net/jtv_user_pictures/57457a3e-dc8a-4f46-9fca-64b89b069dba-profile_banner-480.png',\n",
      "             'profile_banner_background_color': '',\n",
      "             'status': 'MARBELLA VICE #7 || día de buscar empleados ',\n",
      "             'updated_at': datetime.datetime(2021, 4, 22, 6, 26, 16, 466112),\n",
      "             'url': 'https://www.twitch.tv/auronplay',\n",
      "             'video_banner': 'https://static-cdn.jtvnw.net/jtv_user_pictures/a6d0e655-da35-420a-b763-9f1f3b67d621-channel_offline_image-1920x1080.jpeg',\n",
      "             'views': 125313065},\n",
      " 'created_at': datetime.datetime(2021, 4, 17, 13, 57, 17),\n",
      " 'delete_at': '2021-06-16T13:57:17Z',\n",
      " 'description': None,\n",
      " 'description_html': None,\n",
      " 'fps': {'160p30': 29.99851694629612,\n",
      "         '360p30': 29.99851694629612,\n",
      "         '480p30': 29.99851694629612,\n",
      "         '720p30': 29.99851694629612,\n",
      "         '720p60': 59.99361249081603,\n",
      "         'chunked': 59.99361249081603},\n",
      " 'game': 'Just Chatting',\n",
      " 'id': 'v990811453',\n",
      " 'increment_view_count_url': 'https://countess.twitch.tv/ping.gif?u=%7B%22id%22%3A%22990811453%22%2C%22type%22%3A%22vod%22%7D',\n",
      " 'language': 'es',\n",
      " 'length': 18172,\n",
      " 'preview': {'large': 'https://static-cdn.jtvnw.net/cf_vods/dgeft87wbj63p/05d6d8afdaa9004a3b8a_auronplay_41795588844_1618667827//thumb/thumb0-640x360.jpg',\n",
      "             'medium': 'https://static-cdn.jtvnw.net/cf_vods/dgeft87wbj63p/05d6d8afdaa9004a3b8a_auronplay_41795588844_1618667827//thumb/thumb0-320x180.jpg',\n",
      "             'small': 'https://static-cdn.jtvnw.net/cf_vods/dgeft87wbj63p/05d6d8afdaa9004a3b8a_auronplay_41795588844_1618667827//thumb/thumb0-80x45.jpg',\n",
      "             'template': 'https://static-cdn.jtvnw.net/cf_vods/dgeft87wbj63p/05d6d8afdaa9004a3b8a_auronplay_41795588844_1618667827//thumb/thumb0-{width}x{height}.jpg'},\n",
      " 'published_at': datetime.datetime(2021, 4, 17, 13, 57, 17),\n",
      " 'recorded_at': '2021-04-17T13:57:17Z',\n",
      " 'resolutions': {'160p30': '284x160',\n",
      "                 '360p30': '640x360',\n",
      "                 '480p30': '852x480',\n",
      "                 '720p30': '1280x720',\n",
      "                 '720p60': '1280x720',\n",
      "                 'chunked': '1920x1080'},\n",
      " 'restriction': '',\n",
      " 'seek_previews_url': 'https://dgeft87wbj63p.cloudfront.net/05d6d8afdaa9004a3b8a_auronplay_41795588844_1618667827/storyboards/990811453-info.json',\n",
      " 'status': 'recorded',\n",
      " 'tag_list': '',\n",
      " 'thumbnails': {'large': [{'type': 'generated',\n",
      "                           'url': 'https://static-cdn.jtvnw.net/cf_vods/dgeft87wbj63p/05d6d8afdaa9004a3b8a_auronplay_41795588844_1618667827//thumb/thumb0-640x360.jpg'},\n",
      "                          {'type': 'generated',\n",
      "                           'url': 'https://static-cdn.jtvnw.net/cf_vods/dgeft87wbj63p/05d6d8afdaa9004a3b8a_auronplay_41795588844_1618667827//thumb/thumb1-640x360.jpg'},\n",
      "                          {'type': 'generated',\n",
      "                           'url': 'https://static-cdn.jtvnw.net/cf_vods/dgeft87wbj63p/05d6d8afdaa9004a3b8a_auronplay_41795588844_1618667827//thumb/thumb2-640x360.jpg'},\n",
      "                          {'type': 'generated',\n",
      "                           'url': 'https://static-cdn.jtvnw.net/cf_vods/dgeft87wbj63p/05d6d8afdaa9004a3b8a_auronplay_41795588844_1618667827//thumb/thumb3-640x360.jpg'}],\n",
      "                'medium': [{'type': 'generated',\n",
      "                            'url': 'https://static-cdn.jtvnw.net/cf_vods/dgeft87wbj63p/05d6d8afdaa9004a3b8a_auronplay_41795588844_1618667827//thumb/thumb0-320x180.jpg'},\n",
      "                           {'type': 'generated',\n",
      "                            'url': 'https://static-cdn.jtvnw.net/cf_vods/dgeft87wbj63p/05d6d8afdaa9004a3b8a_auronplay_41795588844_1618667827//thumb/thumb1-320x180.jpg'},\n",
      "                           {'type': 'generated',\n",
      "                            'url': 'https://static-cdn.jtvnw.net/cf_vods/dgeft87wbj63p/05d6d8afdaa9004a3b8a_auronplay_41795588844_1618667827//thumb/thumb2-320x180.jpg'},\n",
      "                           {'type': 'generated',\n",
      "                            'url': 'https://static-cdn.jtvnw.net/cf_vods/dgeft87wbj63p/05d6d8afdaa9004a3b8a_auronplay_41795588844_1618667827//thumb/thumb3-320x180.jpg'}],\n",
      "                'small': [{'type': 'generated',\n",
      "                           'url': 'https://static-cdn.jtvnw.net/cf_vods/dgeft87wbj63p/05d6d8afdaa9004a3b8a_auronplay_41795588844_1618667827//thumb/thumb0-80x45.jpg'},\n",
      "                          {'type': 'generated',\n",
      "                           'url': 'https://static-cdn.jtvnw.net/cf_vods/dgeft87wbj63p/05d6d8afdaa9004a3b8a_auronplay_41795588844_1618667827//thumb/thumb1-80x45.jpg'},\n",
      "                          {'type': 'generated',\n",
      "                           'url': 'https://static-cdn.jtvnw.net/cf_vods/dgeft87wbj63p/05d6d8afdaa9004a3b8a_auronplay_41795588844_1618667827//thumb/thumb2-80x45.jpg'},\n",
      "                          {'type': 'generated',\n",
      "                           'url': 'https://static-cdn.jtvnw.net/cf_vods/dgeft87wbj63p/05d6d8afdaa9004a3b8a_auronplay_41795588844_1618667827//thumb/thumb3-80x45.jpg'}],\n",
      "                'template': [{'type': 'generated',\n",
      "                              'url': 'https://static-cdn.jtvnw.net/cf_vods/dgeft87wbj63p/05d6d8afdaa9004a3b8a_auronplay_41795588844_1618667827//thumb/thumb0-{width}x{height}.jpg'},\n",
      "                             {'type': 'generated',\n",
      "                              'url': 'https://static-cdn.jtvnw.net/cf_vods/dgeft87wbj63p/05d6d8afdaa9004a3b8a_auronplay_41795588844_1618667827//thumb/thumb1-{width}x{height}.jpg'},\n",
      "                             {'type': 'generated',\n",
      "                              'url': 'https://static-cdn.jtvnw.net/cf_vods/dgeft87wbj63p/05d6d8afdaa9004a3b8a_auronplay_41795588844_1618667827//thumb/thumb2-{width}x{height}.jpg'},\n",
      "                             {'type': 'generated',\n",
      "                              'url': 'https://static-cdn.jtvnw.net/cf_vods/dgeft87wbj63p/05d6d8afdaa9004a3b8a_auronplay_41795588844_1618667827//thumb/thumb3-{width}x{height}.jpg'}]},\n",
      " 'title': 'MARBELLA VICE #4 || Vamos a conseguir dinerito 🥵',\n",
      " 'url': 'https://www.twitch.tv/videos/990811453',\n",
      " 'viewable': 'public',\n",
      " 'viewable_at': None,\n",
      " 'views': 4458448}\n"
     ]
    }
   ],
   "source": [
    "top_videos = client.videos.get_top(limit = 100)\n",
    "pprint(top_videos[0])"
   ]
  },
  {
   "cell_type": "code",
   "execution_count": null,
   "metadata": {},
   "outputs": [],
   "source": []
  }
 ],
 "metadata": {
  "kernelspec": {
   "display_name": "Python 3",
   "language": "python",
   "name": "python3"
  },
  "language_info": {
   "codemirror_mode": {
    "name": "ipython",
    "version": 3
   },
   "file_extension": ".py",
   "mimetype": "text/x-python",
   "name": "python",
   "nbconvert_exporter": "python",
   "pygments_lexer": "ipython3",
   "version": "3.8.5"
  }
 },
 "nbformat": 4,
 "nbformat_minor": 4
}
