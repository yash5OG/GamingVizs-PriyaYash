{
 "metadata": {
  "language_info": {
   "codemirror_mode": {
    "name": "ipython",
    "version": 3
   },
   "file_extension": ".py",
   "mimetype": "text/x-python",
   "name": "python",
   "nbconvert_exporter": "python",
   "pygments_lexer": "ipython3",
   "version": "3.6.4"
  },
  "orig_nbformat": 2,
  "kernelspec": {
   "name": "python364jvsc74a57bd0a3b5de61d878f304406f236b937d31a1186f9847b1a9314718805f467cc31b17",
   "display_name": "Python 3.6.4 64-bit ('base': conda)"
  }
 },
 "nbformat": 4,
 "nbformat_minor": 2,
 "cells": [
  {
   "cell_type": "code",
   "execution_count": 2,
   "metadata": {},
   "outputs": [],
   "source": [
    "import matplotlib.pyplot as plt\n",
    "import pandas as pd\n",
    "import numpy as np\n",
    "import requests\n",
    "import time\n",
    "from scipy.stats import linregress\n",
    "import psycopg2\n",
    "from sqlalchemy import create_engine, MetaData, Table, Column, Integer, String, Float\n",
    "from api_keys import client_id\n",
    "from twitch import TwitchClient\n",
    "from pprint import pprint"
   ]
  },
  {
   "cell_type": "code",
   "execution_count": 3,
   "metadata": {},
   "outputs": [],
   "source": [
    "client = TwitchClient(client_id= f'{client_id}')"
   ]
  },
  {
   "cell_type": "code",
   "execution_count": 39,
   "metadata": {},
   "outputs": [
    {
     "output_type": "stream",
     "name": "stdout",
     "text": [
      "{'average_fps': 60,\n 'broadcast_platform': 'live',\n 'channel': {'broadcaster_language': 'en',\n             'broadcaster_software': '',\n             'broadcaster_type': '',\n             'created_at': datetime.datetime(2020, 1, 30, 18, 26, 23, 847981),\n             'description': 'Just a guy doing something. Feel free to stop by!',\n             'display_name': 'RanbooLive',\n             'followers': 2441800,\n             'game': 'Little Nightmares',\n             'id': 489155160,\n             'language': 'en',\n             'logo': 'https://static-cdn.jtvnw.net/jtv_user_pictures/8de4d844-586d-4be9-8570-04a0678fa99e-profile_image-300x300.png',\n             'mature': False,\n             'name': 'ranboolive',\n             'partner': True,\n             'privacy_options_enabled': False,\n             'private_video': False,\n             'profile_banner': 'https://static-cdn.jtvnw.net/jtv_user_pictures/bd5aec96-5445-44f7-9d95-23b6b0f36453-profile_banner-480.jpeg',\n             'profile_banner_background_color': '',\n             'status': 'PLAYING THE SCARY GAME! (Warning for slight flashing '\n                       'and disturbing content at times! Stay safe!)',\n             'updated_at': datetime.datetime(2021, 4, 21, 0, 56, 7, 597272),\n             'url': 'https://www.twitch.tv/ranboolive',\n             'video_banner': 'https://static-cdn.jtvnw.net/jtv_user_pictures/0141d99d-796a-4853-a598-59b574818548-channel_offline_image-1920x1080.jpeg',\n             'views': 31223100},\n 'community_id': '',\n 'community_ids': [],\n 'created_at': datetime.datetime(2021, 4, 20, 21, 30, 16),\n 'delay': 0,\n 'game': 'Little Nightmares',\n 'id': 41509031069,\n 'is_playlist': False,\n 'preview': {'large': 'https://static-cdn.jtvnw.net/previews-ttv/live_user_ranboolive-640x360.jpg',\n             'medium': 'https://static-cdn.jtvnw.net/previews-ttv/live_user_ranboolive-320x180.jpg',\n             'small': 'https://static-cdn.jtvnw.net/previews-ttv/live_user_ranboolive-80x45.jpg',\n             'template': 'https://static-cdn.jtvnw.net/previews-ttv/live_user_ranboolive-{width}x{height}.jpg'},\n 'stream_type': 'live',\n 'video_height': 720,\n 'viewers': 90951}\n"
     ]
    }
   ],
   "source": [
    "live_streams = client.streams.get_live_streams(limit = 100)\n",
    "pprint(live_streams[0])"
   ]
  },
  {
   "cell_type": "code",
   "execution_count": 47,
   "metadata": {},
   "outputs": [],
   "source": [
    "top_videos = client.videos.get_top(limit = 100)"
   ]
  },
  {
   "cell_type": "code",
   "execution_count": null,
   "metadata": {},
   "outputs": [],
   "source": []
  }
 ]
}