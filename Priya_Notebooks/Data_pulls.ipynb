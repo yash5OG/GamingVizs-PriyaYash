{
 "metadata": {
  "language_info": {
   "codemirror_mode": {
    "name": "ipython",
    "version": 3
   },
   "file_extension": ".py",
   "mimetype": "text/x-python",
   "name": "python",
   "nbconvert_exporter": "python",
   "pygments_lexer": "ipython3",
   "version": "3.6.4"
  },
  "orig_nbformat": 2,
  "kernelspec": {
   "name": "python364jvsc74a57bd0a3b5de61d878f304406f236b937d31a1186f9847b1a9314718805f467cc31b17",
   "display_name": "Python 3.6.4 64-bit ('base': conda)"
  }
 },
 "nbformat": 4,
 "nbformat_minor": 2,
 "cells": [
  {
   "cell_type": "code",
   "execution_count": 1,
   "metadata": {},
   "outputs": [
    {
     "output_type": "stream",
     "name": "stdout",
     "text": [
      "Requirement already satisfied: sqlalchemy in /Users/priyamittal/anaconda3/lib/python3.6/site-packages (1.2.1)\n"
     ]
    }
   ],
   "source": [
    "!pip install sqlalchemy"
   ]
  },
  {
   "cell_type": "code",
   "execution_count": 2,
   "metadata": {},
   "outputs": [],
   "source": [
    "import sqlalchemy\n",
    "from sqlalchemy.ext.automap import automap_base\n",
    "from sqlalchemy.orm import Session\n",
    "from sqlalchemy import create_engine, inspect, MetaData\n",
    "import pandas as pd\n",
    "\n",
    "engine = create_engine(\"sqlite:///./Website/static/sqlite/twitch.sqlite\",echo = False)\n",
    "# metadata = MetaData(bind=engine)\n",
    "Base = automap_base()\n",
    "\n",
    "connection = engine.connect()"
   ]
  },
  {
   "cell_type": "code",
   "execution_count": 149,
   "metadata": {},
   "outputs": [],
   "source": [
    "Base.prepare(engine, reflect=True)\n",
    "# Base.metadata.reflect(engine)\n"
   ]
  },
  {
   "cell_type": "code",
   "execution_count": 150,
   "metadata": {},
   "outputs": [
    {
     "output_type": "stream",
     "name": "stdout",
     "text": [
      "['game_data', 'top_games']\n"
     ]
    }
   ],
   "source": [
    "print(Base.classes.keys())"
   ]
  },
  {
   "cell_type": "code",
   "execution_count": 151,
   "metadata": {},
   "outputs": [],
   "source": [
    "\n",
    "top_games = Base.classes.top_games\n"
   ]
  },
  {
   "cell_type": "code",
   "execution_count": 146,
   "metadata": {},
   "outputs": [
    {
     "output_type": "execute_result",
     "data": {
      "text/plain": [
       "<sqlalchemy.orm.attributes.InstrumentedAttribute at 0x7fd7eeceb1a8>"
      ]
     },
     "metadata": {},
     "execution_count": 146
    }
   ],
   "source": [
    "top_games.game_name"
   ]
  },
  {
   "cell_type": "code",
   "execution_count": 132,
   "metadata": {},
   "outputs": [
    {
     "output_type": "execute_result",
     "data": {
      "text/plain": [
       "{'_sa_instance_state': <sqlalchemy.orm.state.InstanceState at 0x7fd7ef10e438>,\n",
       " 'channels': 4654,\n",
       " 'game_name': 'Grand Theft Auto V',\n",
       " 'viewers': 482305}"
      ]
     },
     "metadata": {},
     "execution_count": 132
    }
   ],
   "source": [
    "session = Session(engine)\n",
    "\n",
    "columns = session.query(top_games).first()\n",
    "columns.__dict__"
   ]
  },
  {
   "cell_type": "code",
   "execution_count": 133,
   "metadata": {},
   "outputs": [
    {
     "output_type": "stream",
     "name": "stdout",
     "text": [
      "('ARK: Survival Evolved',)\n('ASMR',)\n('Among Us',)\n('Animal Crossing: New Horizons',)\n('Apex Legends',)\n('Art',)\n('Battlerite',)\n('Black Desert Online',)\n('Call Of Duty: Modern Warfare',)\n('Call of Duty: Black Ops Cold War',)\n('Call of Duty: Warzone',)\n('Chess',)\n('Clash Royale',)\n(\"Conqueror's Blade\",)\n('Counter-Strike: Global Offensive',)\n('Dark Souls III',)\n('DayZ',)\n('Dead by Daylight',)\n('Destiny 2',)\n('Diablo III',)\n('Dofus',)\n('Dota 2',)\n('Dungeons & Dragons',)\n('Enlisted',)\n('Escape from Tarkov',)\n('FIFA 21',)\n('FINAL FANTASY XIV Online',)\n('First Class Trouble',)\n('Food & Drink',)\n('Fortnite',)\n('Forza Horizon 4',)\n('Garena Free Fire',)\n('Gartic Phone',)\n('Genshin Impact',)\n('Grand Theft Auto V',)\n('Halo: The Master Chief Collection',)\n('Hearthstone',)\n('Hobo: Tough Life',)\n('Hunt: Showdown',)\n('It Takes Two',)\n('Just Chatting',)\n('LOST ARK',)\n('League of Legends',)\n('League of Legends: Wild Rift',)\n('Legends of Runeterra',)\n('Little Nightmares II',)\n('MLB The Show 21',)\n('Magic: The Gathering',)\n('Mario Kart 8',)\n('Minecraft',)\n('Monster Hunter Rise',)\n('Music',)\n('NBA 2K21',)\n('NieR Replicant Ver.1.22474487139...',)\n('Old School RuneScape',)\n('Outriders',)\n('Overwatch',)\n(\"PLAYERUNKNOWN'S BATTLEGROUNDS\",)\n('Path of Exile',)\n('Phasmophobia',)\n('Poker',)\n('Pokémon GO',)\n('Pokémon Platinum',)\n('Pokémon Sword/Shield',)\n('Pokémon Trading Card Game',)\n('Resident Evil',)\n('Retro',)\n('Roblox',)\n('Rocket League',)\n('Rust',)\n('SMITE',)\n('Science & Technology',)\n('Sea of Thieves',)\n('Slay the Spire',)\n('Slots',)\n('Sports',)\n('Spyro the Dragon: Reignited Trilogy',)\n('StarCraft II',)\n('Street Fighter V',)\n('Super Mario World',)\n('Super Smash Bros. Ultimate',)\n('TV Guide',)\n('Talk Shows & Podcasts',)\n('Teamfight Tactics',)\n('The Binding of Isaac: Repentance',)\n('The Isle',)\n('The Legend of Zelda: Breath of the Wild',)\n('Tibia',)\n(\"Tom Clancy's Rainbow Six Siege\",)\n('Trials Rising',)\n('Tv star',)\n('VALORANT',)\n('VRChat',)\n('War by Grow Games',)\n('Weed Shop 3',)\n('World of Warcraft',)\n('Worms W.M.D',)\n('XCOM 2',)\n('osu!',)\n"
     ]
    }
   ],
   "source": [
    "for row in session.query(game_data.game_name).limit(100).all():\n",
    "    print(row)"
   ]
  },
  {
   "cell_type": "code",
   "execution_count": 139,
   "metadata": {},
   "outputs": [],
   "source": [
    "data_list = []\n",
    "for row in session.query(top_games).all():\n",
    "     data_list.append(row.__dict__)\n",
    "\n",
    "     \n"
   ]
  },
  {
   "cell_type": "code",
   "execution_count": 156,
   "metadata": {},
   "outputs": [
    {
     "output_type": "execute_result",
     "data": {
      "text/plain": [
       "['Grand Theft Auto V',\n",
       " 'Just Chatting',\n",
       " 'League of Legends',\n",
       " 'VALORANT',\n",
       " 'Fortnite',\n",
       " 'Little Nightmares II',\n",
       " 'Apex Legends',\n",
       " 'Mario Kart 8',\n",
       " \"Tom Clancy's Rainbow Six Siege\",\n",
       " 'Garena Free Fire',\n",
       " 'Counter-Strike: Global Offensive',\n",
       " 'Rocket League',\n",
       " 'Minecraft',\n",
       " 'Call of Duty: Warzone',\n",
       " 'Sea of Thieves',\n",
       " 'Path of Exile',\n",
       " 'Dead by Daylight',\n",
       " 'NBA 2K21',\n",
       " 'World of Warcraft',\n",
       " 'Dota 2',\n",
       " 'Talk Shows & Podcasts',\n",
       " 'Escape from Tarkov',\n",
       " 'Music',\n",
       " 'Diablo III',\n",
       " 'Slots',\n",
       " 'Hearthstone',\n",
       " 'Dark Souls III',\n",
       " 'Call of Duty: Black Ops Cold War',\n",
       " 'The Isle',\n",
       " 'Call Of Duty: Modern Warfare',\n",
       " 'FIFA 21',\n",
       " 'Poker',\n",
       " 'Magic: The Gathering',\n",
       " 'Overwatch',\n",
       " 'Monster Hunter Rise',\n",
       " 'Rust',\n",
       " 'ASMR',\n",
       " 'Chess',\n",
       " 'Art',\n",
       " 'Gartic Phone',\n",
       " 'SMITE',\n",
       " 'Battlerite',\n",
       " 'Dofus',\n",
       " 'War by Grow Games',\n",
       " 'Genshin Impact',\n",
       " 'XCOM 2',\n",
       " 'Teamfight Tactics',\n",
       " 'Resident Evil',\n",
       " 'Destiny 2',\n",
       " 'MLB The Show 21',\n",
       " \"PLAYERUNKNOWN'S BATTLEGROUNDS\",\n",
       " 'Super Smash Bros. Ultimate',\n",
       " 'Forza Horizon 4',\n",
       " 'It Takes Two',\n",
       " 'The Binding of Isaac: Repentance',\n",
       " 'Enlisted',\n",
       " 'Weed Shop 3',\n",
       " 'Street Fighter V',\n",
       " 'Outriders',\n",
       " 'Worms W.M.D',\n",
       " 'Pokémon Platinum',\n",
       " 'Old School RuneScape',\n",
       " 'VRChat',\n",
       " 'Retro',\n",
       " 'ARK: Survival Evolved',\n",
       " 'First Class Trouble',\n",
       " \"Conqueror's Blade\",\n",
       " 'Tibia',\n",
       " 'Halo: The Master Chief Collection',\n",
       " 'Sports',\n",
       " 'League of Legends: Wild Rift',\n",
       " 'Dungeons & Dragons',\n",
       " 'osu!',\n",
       " 'Spyro the Dragon: Reignited Trilogy',\n",
       " 'Trials Rising',\n",
       " 'Tv star',\n",
       " 'Legends of Runeterra',\n",
       " 'NieR Replicant Ver.1.22474487139...',\n",
       " 'Phasmophobia',\n",
       " 'Pokémon Sword/Shield',\n",
       " 'FINAL FANTASY XIV Online',\n",
       " 'Black Desert Online',\n",
       " 'The Legend of Zelda: Breath of the Wild',\n",
       " 'Hobo: Tough Life',\n",
       " 'Hunt: Showdown',\n",
       " 'StarCraft II',\n",
       " 'LOST ARK',\n",
       " 'TV Guide',\n",
       " 'Animal Crossing: New Horizons',\n",
       " 'Slay the Spire',\n",
       " 'DayZ',\n",
       " 'Science & Technology',\n",
       " 'Pokémon Trading Card Game',\n",
       " 'Food & Drink',\n",
       " 'Roblox',\n",
       " 'Pokémon GO',\n",
       " 'Clash Royale',\n",
       " 'Super Mario World',\n",
       " 'Among Us']"
      ]
     },
     "metadata": {},
     "execution_count": 156
    }
   ],
   "source": [
    "data_list = []\n",
    "for row in session.query(top_games).all():\n",
    "     #print(row.__dict__)\n",
    "     data_list.append(row.__dict__[\"game_name\"])\n",
    "data_list"
   ]
  },
  {
   "cell_type": "code",
   "execution_count": 140,
   "metadata": {},
   "outputs": [
    {
     "output_type": "execute_result",
     "data": {
      "text/plain": [
       "[{'_sa_instance_state': <sqlalchemy.orm.state.InstanceState at 0x7fd7ef10e438>,\n",
       "  'channels': 4654,\n",
       "  'game_name': 'Grand Theft Auto V',\n",
       "  'viewers': 482305},\n",
       " {'_sa_instance_state': <sqlalchemy.orm.state.InstanceState at 0x7fd7ef15c898>,\n",
       "  'channels': 5966,\n",
       "  'game_name': 'Just Chatting',\n",
       "  'viewers': 377468},\n",
       " {'_sa_instance_state': <sqlalchemy.orm.state.InstanceState at 0x7fd7ef15cd30>,\n",
       "  'channels': 6217,\n",
       "  'game_name': 'League of Legends',\n",
       "  'viewers': 227867},\n",
       " {'_sa_instance_state': <sqlalchemy.orm.state.InstanceState at 0x7fd7ef15cc88>,\n",
       "  'channels': 6572,\n",
       "  'game_name': 'VALORANT',\n",
       "  'viewers': 161435},\n",
       " {'_sa_instance_state': <sqlalchemy.orm.state.InstanceState at 0x7fd7ef173550>,\n",
       "  'channels': 8705,\n",
       "  'game_name': 'Fortnite',\n",
       "  'viewers': 148475},\n",
       " {'_sa_instance_state': <sqlalchemy.orm.state.InstanceState at 0x7fd7ef173a90>,\n",
       "  'channels': 83,\n",
       "  'game_name': 'Little Nightmares II',\n",
       "  'viewers': 97995},\n",
       " {'_sa_instance_state': <sqlalchemy.orm.state.InstanceState at 0x7fd7ef1730b8>,\n",
       "  'channels': 6955,\n",
       "  'game_name': 'Apex Legends',\n",
       "  'viewers': 93512},\n",
       " {'_sa_instance_state': <sqlalchemy.orm.state.InstanceState at 0x7fd7ef1735f8>,\n",
       "  'channels': 89,\n",
       "  'game_name': 'Mario Kart 8',\n",
       "  'viewers': 89078},\n",
       " {'_sa_instance_state': <sqlalchemy.orm.state.InstanceState at 0x7fd7ef173b38>,\n",
       "  'channels': 1791,\n",
       "  'game_name': \"Tom Clancy's Rainbow Six Siege\",\n",
       "  'viewers': 80916},\n",
       " {'_sa_instance_state': <sqlalchemy.orm.state.InstanceState at 0x7fd7ef173fd0>,\n",
       "  'channels': 816,\n",
       "  'game_name': 'Garena Free Fire',\n",
       "  'viewers': 77639},\n",
       " {'_sa_instance_state': <sqlalchemy.orm.state.InstanceState at 0x7fd7ef173400>,\n",
       "  'channels': 2230,\n",
       "  'game_name': 'Counter-Strike: Global Offensive',\n",
       "  'viewers': 67548},\n",
       " {'_sa_instance_state': <sqlalchemy.orm.state.InstanceState at 0x7fd7ef173940>,\n",
       "  'channels': 2612,\n",
       "  'game_name': 'Rocket League',\n",
       "  'viewers': 62828},\n",
       " {'_sa_instance_state': <sqlalchemy.orm.state.InstanceState at 0x7fd7ef173e80>,\n",
       "  'channels': 5301,\n",
       "  'game_name': 'Minecraft',\n",
       "  'viewers': 61304},\n",
       " {'_sa_instance_state': <sqlalchemy.orm.state.InstanceState at 0x7fd7ef1734a8>,\n",
       "  'channels': 5894,\n",
       "  'game_name': 'Call of Duty: Warzone',\n",
       "  'viewers': 60961},\n",
       " {'_sa_instance_state': <sqlalchemy.orm.state.InstanceState at 0x7fd7ef1739e8>,\n",
       "  'channels': 941,\n",
       "  'game_name': 'Sea of Thieves',\n",
       "  'viewers': 50632},\n",
       " {'_sa_instance_state': <sqlalchemy.orm.state.InstanceState at 0x7fd7ef173f28>,\n",
       "  'channels': 865,\n",
       "  'game_name': 'Path of Exile',\n",
       "  'viewers': 44608},\n",
       " {'_sa_instance_state': <sqlalchemy.orm.state.InstanceState at 0x7fd7ef1762b0>,\n",
       "  'channels': 2341,\n",
       "  'game_name': 'Dead by Daylight',\n",
       "  'viewers': 40184},\n",
       " {'_sa_instance_state': <sqlalchemy.orm.state.InstanceState at 0x7fd7ef176550>,\n",
       "  'channels': 1485,\n",
       "  'game_name': 'NBA 2K21',\n",
       "  'viewers': 34991},\n",
       " {'_sa_instance_state': <sqlalchemy.orm.state.InstanceState at 0x7fd7ef1767f0>,\n",
       "  'channels': 2420,\n",
       "  'game_name': 'World of Warcraft',\n",
       "  'viewers': 33748},\n",
       " {'_sa_instance_state': <sqlalchemy.orm.state.InstanceState at 0x7fd7ef176a90>,\n",
       "  'channels': 656,\n",
       "  'game_name': 'Dota 2',\n",
       "  'viewers': 33040},\n",
       " {'_sa_instance_state': <sqlalchemy.orm.state.InstanceState at 0x7fd7ef176d30>,\n",
       "  'channels': 545,\n",
       "  'game_name': 'Talk Shows & Podcasts',\n",
       "  'viewers': 28177},\n",
       " {'_sa_instance_state': <sqlalchemy.orm.state.InstanceState at 0x7fd7ef176fd0>,\n",
       "  'channels': 1379,\n",
       "  'game_name': 'Escape from Tarkov',\n",
       "  'viewers': 28155},\n",
       " {'_sa_instance_state': <sqlalchemy.orm.state.InstanceState at 0x7fd7ef176208>,\n",
       "  'channels': 1588,\n",
       "  'game_name': 'Music',\n",
       "  'viewers': 25926},\n",
       " {'_sa_instance_state': <sqlalchemy.orm.state.InstanceState at 0x7fd7ef1764a8>,\n",
       "  'channels': 194,\n",
       "  'game_name': 'Diablo III',\n",
       "  'viewers': 23790},\n",
       " {'_sa_instance_state': <sqlalchemy.orm.state.InstanceState at 0x7fd7ef176748>,\n",
       "  'channels': 172,\n",
       "  'game_name': 'Slots',\n",
       "  'viewers': 23720},\n",
       " {'_sa_instance_state': <sqlalchemy.orm.state.InstanceState at 0x7fd7ef1769e8>,\n",
       "  'channels': 227,\n",
       "  'game_name': 'Hearthstone',\n",
       "  'viewers': 23024},\n",
       " {'_sa_instance_state': <sqlalchemy.orm.state.InstanceState at 0x7fd7ef176c88>,\n",
       "  'channels': 337,\n",
       "  'game_name': 'Dark Souls III',\n",
       "  'viewers': 22440},\n",
       " {'_sa_instance_state': <sqlalchemy.orm.state.InstanceState at 0x7fd7ef176f28>,\n",
       "  'channels': 2175,\n",
       "  'game_name': 'Call of Duty: Black Ops Cold War',\n",
       "  'viewers': 20051},\n",
       " {'_sa_instance_state': <sqlalchemy.orm.state.InstanceState at 0x7fd7ef15f550>,\n",
       "  'channels': 93,\n",
       "  'game_name': 'The Isle',\n",
       "  'viewers': 19146},\n",
       " {'_sa_instance_state': <sqlalchemy.orm.state.InstanceState at 0x7fd7ef15fc88>,\n",
       "  'channels': 8178,\n",
       "  'game_name': 'Call Of Duty: Modern Warfare',\n",
       "  'viewers': 18738},\n",
       " {'_sa_instance_state': <sqlalchemy.orm.state.InstanceState at 0x7fd7ef1662b0>,\n",
       "  'channels': 777,\n",
       "  'game_name': 'FIFA 21',\n",
       "  'viewers': 17823},\n",
       " {'_sa_instance_state': <sqlalchemy.orm.state.InstanceState at 0x7fd7ef166f28>,\n",
       "  'channels': 137,\n",
       "  'game_name': 'Poker',\n",
       "  'viewers': 17084},\n",
       " {'_sa_instance_state': <sqlalchemy.orm.state.InstanceState at 0x7fd7ef166160>,\n",
       "  'channels': 240,\n",
       "  'game_name': 'Magic: The Gathering',\n",
       "  'viewers': 16740},\n",
       " {'_sa_instance_state': <sqlalchemy.orm.state.InstanceState at 0x7fd7ef1660b8>,\n",
       "  'channels': 1599,\n",
       "  'game_name': 'Overwatch',\n",
       "  'viewers': 16715},\n",
       " {'_sa_instance_state': <sqlalchemy.orm.state.InstanceState at 0x7fd7ef166358>,\n",
       "  'channels': 424,\n",
       "  'game_name': 'Monster Hunter Rise',\n",
       "  'viewers': 15861},\n",
       " {'_sa_instance_state': <sqlalchemy.orm.state.InstanceState at 0x7fd7ef1630b8>,\n",
       "  'channels': 355,\n",
       "  'game_name': 'Rust',\n",
       "  'viewers': 14618},\n",
       " {'_sa_instance_state': <sqlalchemy.orm.state.InstanceState at 0x7fd7ef163940>,\n",
       "  'channels': 160,\n",
       "  'game_name': 'ASMR',\n",
       "  'viewers': 14606},\n",
       " {'_sa_instance_state': <sqlalchemy.orm.state.InstanceState at 0x7fd7ef15a898>,\n",
       "  'channels': 152,\n",
       "  'game_name': 'Chess',\n",
       "  'viewers': 14541},\n",
       " {'_sa_instance_state': <sqlalchemy.orm.state.InstanceState at 0x7fd7ef15a550>,\n",
       "  'channels': 1203,\n",
       "  'game_name': 'Art',\n",
       "  'viewers': 14109},\n",
       " {'_sa_instance_state': <sqlalchemy.orm.state.InstanceState at 0x7fd7ef15a4a8>,\n",
       "  'channels': 132,\n",
       "  'game_name': 'Gartic Phone',\n",
       "  'viewers': 13945},\n",
       " {'_sa_instance_state': <sqlalchemy.orm.state.InstanceState at 0x7fd7ef15a940>,\n",
       "  'channels': 519,\n",
       "  'game_name': 'SMITE',\n",
       "  'viewers': 13480},\n",
       " {'_sa_instance_state': <sqlalchemy.orm.state.InstanceState at 0x7fd7ef1792b0>,\n",
       "  'channels': 8,\n",
       "  'game_name': 'Battlerite',\n",
       "  'viewers': 12491},\n",
       " {'_sa_instance_state': <sqlalchemy.orm.state.InstanceState at 0x7fd7ef179550>,\n",
       "  'channels': 212,\n",
       "  'game_name': 'Dofus',\n",
       "  'viewers': 12337},\n",
       " {'_sa_instance_state': <sqlalchemy.orm.state.InstanceState at 0x7fd7ef1797f0>,\n",
       "  'channels': 16,\n",
       "  'game_name': 'War by Grow Games',\n",
       "  'viewers': 12135},\n",
       " {'_sa_instance_state': <sqlalchemy.orm.state.InstanceState at 0x7fd7ef179b38>,\n",
       "  'channels': 714,\n",
       "  'game_name': 'Genshin Impact',\n",
       "  'viewers': 11812},\n",
       " {'_sa_instance_state': <sqlalchemy.orm.state.InstanceState at 0x7fd7ef179f28>,\n",
       "  'channels': 28,\n",
       "  'game_name': 'XCOM 2',\n",
       "  'viewers': 10518},\n",
       " {'_sa_instance_state': <sqlalchemy.orm.state.InstanceState at 0x7fd7ef179208>,\n",
       "  'channels': 377,\n",
       "  'game_name': 'Teamfight Tactics',\n",
       "  'viewers': 10408},\n",
       " {'_sa_instance_state': <sqlalchemy.orm.state.InstanceState at 0x7fd7ef1794a8>,\n",
       "  'channels': 109,\n",
       "  'game_name': 'Resident Evil',\n",
       "  'viewers': 10335},\n",
       " {'_sa_instance_state': <sqlalchemy.orm.state.InstanceState at 0x7fd7ef179748>,\n",
       "  'channels': 1178,\n",
       "  'game_name': 'Destiny 2',\n",
       "  'viewers': 9903},\n",
       " {'_sa_instance_state': <sqlalchemy.orm.state.InstanceState at 0x7fd7ef179a90>,\n",
       "  'channels': 617,\n",
       "  'game_name': 'MLB The Show 21',\n",
       "  'viewers': 9157},\n",
       " {'_sa_instance_state': <sqlalchemy.orm.state.InstanceState at 0x7fd7ef179e80>,\n",
       "  'channels': 914,\n",
       "  'game_name': \"PLAYERUNKNOWN'S BATTLEGROUNDS\",\n",
       "  'viewers': 9153},\n",
       " {'_sa_instance_state': <sqlalchemy.orm.state.InstanceState at 0x7fd7ef14a588>,\n",
       "  'channels': 382,\n",
       "  'game_name': 'Super Smash Bros. Ultimate',\n",
       "  'viewers': 8536},\n",
       " {'_sa_instance_state': <sqlalchemy.orm.state.InstanceState at 0x7fd7ef14a048>,\n",
       "  'channels': 165,\n",
       "  'game_name': 'Forza Horizon 4',\n",
       "  'viewers': 8221},\n",
       " {'_sa_instance_state': <sqlalchemy.orm.state.InstanceState at 0x7fd7ef14ac18>,\n",
       "  'channels': 527,\n",
       "  'game_name': 'It Takes Two',\n",
       "  'viewers': 8055},\n",
       " {'_sa_instance_state': <sqlalchemy.orm.state.InstanceState at 0x7fd7ef14a2e8>,\n",
       "  'channels': 298,\n",
       "  'game_name': 'The Binding of Isaac: Repentance',\n",
       "  'viewers': 7889},\n",
       " {'_sa_instance_state': <sqlalchemy.orm.state.InstanceState at 0x7fd7ef14ad68>,\n",
       "  'channels': 392,\n",
       "  'game_name': 'Enlisted',\n",
       "  'viewers': 7728},\n",
       " {'_sa_instance_state': <sqlalchemy.orm.state.InstanceState at 0x7fd7ef14a978>,\n",
       "  'channels': 14,\n",
       "  'game_name': 'Weed Shop 3',\n",
       "  'viewers': 7193},\n",
       " {'_sa_instance_state': <sqlalchemy.orm.state.InstanceState at 0x7fd7ef14a908>,\n",
       "  'channels': 111,\n",
       "  'game_name': 'Street Fighter V',\n",
       "  'viewers': 7024},\n",
       " {'_sa_instance_state': <sqlalchemy.orm.state.InstanceState at 0x7fd7ef14af98>,\n",
       "  'channels': 983,\n",
       "  'game_name': 'Outriders',\n",
       "  'viewers': 6905},\n",
       " {'_sa_instance_state': <sqlalchemy.orm.state.InstanceState at 0x7fd7ef14ae48>,\n",
       "  'channels': 9,\n",
       "  'game_name': 'Worms W.M.D',\n",
       "  'viewers': 6832},\n",
       " {'_sa_instance_state': <sqlalchemy.orm.state.InstanceState at 0x7fd7ef14a668>,\n",
       "  'channels': 68,\n",
       "  'game_name': 'Pokémon Platinum',\n",
       "  'viewers': 6758},\n",
       " {'_sa_instance_state': <sqlalchemy.orm.state.InstanceState at 0x7fd7ef14acf8>,\n",
       "  'channels': 205,\n",
       "  'game_name': 'Old School RuneScape',\n",
       "  'viewers': 6590},\n",
       " {'_sa_instance_state': <sqlalchemy.orm.state.InstanceState at 0x7fd7ef14a3c8>,\n",
       "  'channels': 181,\n",
       "  'game_name': 'VRChat',\n",
       "  'viewers': 6440},\n",
       " {'_sa_instance_state': <sqlalchemy.orm.state.InstanceState at 0x7fd7ef14eeb8>,\n",
       "  'channels': 342,\n",
       "  'game_name': 'Retro',\n",
       "  'viewers': 6428},\n",
       " {'_sa_instance_state': <sqlalchemy.orm.state.InstanceState at 0x7fd7ef14eac8>,\n",
       "  'channels': 484,\n",
       "  'game_name': 'ARK: Survival Evolved',\n",
       "  'viewers': 6422},\n",
       " {'_sa_instance_state': <sqlalchemy.orm.state.InstanceState at 0x7fd7ef14e2e8>,\n",
       "  'channels': 70,\n",
       "  'game_name': 'First Class Trouble',\n",
       "  'viewers': 6365},\n",
       " {'_sa_instance_state': <sqlalchemy.orm.state.InstanceState at 0x7fd7ef14e198>,\n",
       "  'channels': 54,\n",
       "  'game_name': \"Conqueror's Blade\",\n",
       "  'viewers': 6326},\n",
       " {'_sa_instance_state': <sqlalchemy.orm.state.InstanceState at 0x7fd7ef14e978>,\n",
       "  'channels': 432,\n",
       "  'game_name': 'Tibia',\n",
       "  'viewers': 6323},\n",
       " {'_sa_instance_state': <sqlalchemy.orm.state.InstanceState at 0x7fd7ef14e588>,\n",
       "  'channels': 331,\n",
       "  'game_name': 'Halo: The Master Chief Collection',\n",
       "  'viewers': 5941},\n",
       " {'_sa_instance_state': <sqlalchemy.orm.state.InstanceState at 0x7fd7ef14e518>,\n",
       "  'channels': 156,\n",
       "  'game_name': 'Sports',\n",
       "  'viewers': 5894},\n",
       " {'_sa_instance_state': <sqlalchemy.orm.state.InstanceState at 0x7fd7ef14e908>,\n",
       "  'channels': 312,\n",
       "  'game_name': 'League of Legends: Wild Rift',\n",
       "  'viewers': 5887},\n",
       " {'_sa_instance_state': <sqlalchemy.orm.state.InstanceState at 0x7fd7ef14e668>,\n",
       "  'channels': 393,\n",
       "  'game_name': 'Dungeons & Dragons',\n",
       "  'viewers': 5820},\n",
       " {'_sa_instance_state': <sqlalchemy.orm.state.InstanceState at 0x7fd7ef14eba8>,\n",
       "  'channels': 313,\n",
       "  'game_name': 'osu!',\n",
       "  'viewers': 5510},\n",
       " {'_sa_instance_state': <sqlalchemy.orm.state.InstanceState at 0x7fd7ef14ee48>,\n",
       "  'channels': 22,\n",
       "  'game_name': 'Spyro the Dragon: Reignited Trilogy',\n",
       "  'viewers': 5487},\n",
       " {'_sa_instance_state': <sqlalchemy.orm.state.InstanceState at 0x7fd7ef153f28>,\n",
       "  'channels': 10,\n",
       "  'game_name': 'Trials Rising',\n",
       "  'viewers': 5416},\n",
       " {'_sa_instance_state': <sqlalchemy.orm.state.InstanceState at 0x7fd7ef153940>,\n",
       "  'channels': 2,\n",
       "  'game_name': 'Tv star',\n",
       "  'viewers': 5160},\n",
       " {'_sa_instance_state': <sqlalchemy.orm.state.InstanceState at 0x7fd7ef153e80>,\n",
       "  'channels': 57,\n",
       "  'game_name': 'Legends of Runeterra',\n",
       "  'viewers': 5145},\n",
       " {'_sa_instance_state': <sqlalchemy.orm.state.InstanceState at 0x7fd7ef153898>,\n",
       "  'channels': 42,\n",
       "  'game_name': 'NieR Replicant Ver.1.22474487139...',\n",
       "  'viewers': 4925},\n",
       " {'_sa_instance_state': <sqlalchemy.orm.state.InstanceState at 0x7fd7ef1535f8>,\n",
       "  'channels': 635,\n",
       "  'game_name': 'Phasmophobia',\n",
       "  'viewers': 4902},\n",
       " {'_sa_instance_state': <sqlalchemy.orm.state.InstanceState at 0x7fd7ef1533c8>,\n",
       "  'channels': 299,\n",
       "  'game_name': 'Pokémon Sword/Shield',\n",
       "  'viewers': 4807},\n",
       " {'_sa_instance_state': <sqlalchemy.orm.state.InstanceState at 0x7fd7ef153438>,\n",
       "  'channels': 913,\n",
       "  'game_name': 'FINAL FANTASY XIV Online',\n",
       "  'viewers': 4785},\n",
       " {'_sa_instance_state': <sqlalchemy.orm.state.InstanceState at 0x7fd7ef153198>,\n",
       "  'channels': 236,\n",
       "  'game_name': 'Black Desert Online',\n",
       "  'viewers': 4762},\n",
       " {'_sa_instance_state': <sqlalchemy.orm.state.InstanceState at 0x7fd7ef146c18>,\n",
       "  'channels': 170,\n",
       "  'game_name': 'The Legend of Zelda: Breath of the Wild',\n",
       "  'viewers': 4720},\n",
       " {'_sa_instance_state': <sqlalchemy.orm.state.InstanceState at 0x7fd7ef146278>,\n",
       "  'channels': 23,\n",
       "  'game_name': 'Hobo: Tough Life',\n",
       "  'viewers': 4503},\n",
       " {'_sa_instance_state': <sqlalchemy.orm.state.InstanceState at 0x7fd7ef1460b8>,\n",
       "  'channels': 340,\n",
       "  'game_name': 'Hunt: Showdown',\n",
       "  'viewers': 4348},\n",
       " {'_sa_instance_state': <sqlalchemy.orm.state.InstanceState at 0x7fd7ef146d68>,\n",
       "  'channels': 87,\n",
       "  'game_name': 'StarCraft II',\n",
       "  'viewers': 4287},\n",
       " {'_sa_instance_state': <sqlalchemy.orm.state.InstanceState at 0x7fd7ef146198>,\n",
       "  'channels': 78,\n",
       "  'game_name': 'LOST ARK',\n",
       "  'viewers': 4207},\n",
       " {'_sa_instance_state': <sqlalchemy.orm.state.InstanceState at 0x7fd7ef146828>,\n",
       "  'channels': 5,\n",
       "  'game_name': 'TV Guide',\n",
       "  'viewers': 4053},\n",
       " {'_sa_instance_state': <sqlalchemy.orm.state.InstanceState at 0x7fd7ef146358>,\n",
       "  'channels': 198,\n",
       "  'game_name': 'Animal Crossing: New Horizons',\n",
       "  'viewers': 3988},\n",
       " {'_sa_instance_state': <sqlalchemy.orm.state.InstanceState at 0x7fd7ef146908>,\n",
       "  'channels': 48,\n",
       "  'game_name': 'Slay the Spire',\n",
       "  'viewers': 3917},\n",
       " {'_sa_instance_state': <sqlalchemy.orm.state.InstanceState at 0x7fd7ef146208>,\n",
       "  'channels': 350,\n",
       "  'game_name': 'DayZ',\n",
       "  'viewers': 3851},\n",
       " {'_sa_instance_state': <sqlalchemy.orm.state.InstanceState at 0x7fd7ef146518>,\n",
       "  'channels': 306,\n",
       "  'game_name': 'Science & Technology',\n",
       "  'viewers': 3840},\n",
       " {'_sa_instance_state': <sqlalchemy.orm.state.InstanceState at 0x7fd7ef1462e8>,\n",
       "  'channels': 127,\n",
       "  'game_name': 'Pokémon Trading Card Game',\n",
       "  'viewers': 3810},\n",
       " {'_sa_instance_state': <sqlalchemy.orm.state.InstanceState at 0x7fd7ef146128>,\n",
       "  'channels': 89,\n",
       "  'game_name': 'Food & Drink',\n",
       "  'viewers': 3716},\n",
       " {'_sa_instance_state': <sqlalchemy.orm.state.InstanceState at 0x7fd7ef142f98>,\n",
       "  'channels': 686,\n",
       "  'game_name': 'Roblox',\n",
       "  'viewers': 3596},\n",
       " {'_sa_instance_state': <sqlalchemy.orm.state.InstanceState at 0x7fd7ef1429e8>,\n",
       "  'channels': 61,\n",
       "  'game_name': 'Pokémon GO',\n",
       "  'viewers': 3492},\n",
       " {'_sa_instance_state': <sqlalchemy.orm.state.InstanceState at 0x7fd7ef142208>,\n",
       "  'channels': 57,\n",
       "  'game_name': 'Clash Royale',\n",
       "  'viewers': 3259},\n",
       " {'_sa_instance_state': <sqlalchemy.orm.state.InstanceState at 0x7fd7ef142908>,\n",
       "  'channels': 48,\n",
       "  'game_name': 'Super Mario World',\n",
       "  'viewers': 3228},\n",
       " {'_sa_instance_state': <sqlalchemy.orm.state.InstanceState at 0x7fd7ef142eb8>,\n",
       "  'channels': 451,\n",
       "  'game_name': 'Among Us',\n",
       "  'viewers': 3209}]"
      ]
     },
     "metadata": {},
     "execution_count": 140
    }
   ],
   "source": [
    "data_list"
   ]
  },
  {
   "cell_type": "code",
   "execution_count": 15,
   "metadata": {},
   "outputs": [
    {
     "output_type": "execute_result",
     "data": {
      "text/plain": [
       "                               Game  Rank  Month  Year  Hours_watched  \\\n",
       "0                 League of Legends     1      1  2016       94377226   \n",
       "1  Counter-Strike: Global Offensive     2      1  2016       47832863   \n",
       "2                            Dota 2     3      1  2016       45185893   \n",
       "3                       Hearthstone     4      1  2016       39936159   \n",
       "4       Call of Duty: Black Ops III     5      1  2016       16153057   \n",
       "\n",
       "   Hours_Streamed  Peak_viewers  Peak_channels  Streamers  Avg_viewers  \\\n",
       "0         1362044        530270           2903     129172       127021   \n",
       "1          830105        372654           2197     120849        64378   \n",
       "2          433397        315083           1100      44074        60815   \n",
       "3          235903        131357            517      36170        53749   \n",
       "4         1151578         71639           3620     214054        21740   \n",
       "\n",
       "   Avg_channels  Avg_viewer_ratio  \n",
       "0          1833             69.29  \n",
       "1          1117             57.62  \n",
       "2           583            104.26  \n",
       "3           317            169.29  \n",
       "4          1549             14.03  "
      ],
      "text/html": "<div>\n<style scoped>\n    .dataframe tbody tr th:only-of-type {\n        vertical-align: middle;\n    }\n\n    .dataframe tbody tr th {\n        vertical-align: top;\n    }\n\n    .dataframe thead th {\n        text-align: right;\n    }\n</style>\n<table border=\"1\" class=\"dataframe\">\n  <thead>\n    <tr style=\"text-align: right;\">\n      <th></th>\n      <th>Game</th>\n      <th>Rank</th>\n      <th>Month</th>\n      <th>Year</th>\n      <th>Hours_watched</th>\n      <th>Hours_Streamed</th>\n      <th>Peak_viewers</th>\n      <th>Peak_channels</th>\n      <th>Streamers</th>\n      <th>Avg_viewers</th>\n      <th>Avg_channels</th>\n      <th>Avg_viewer_ratio</th>\n    </tr>\n  </thead>\n  <tbody>\n    <tr>\n      <th>0</th>\n      <td>League of Legends</td>\n      <td>1</td>\n      <td>1</td>\n      <td>2016</td>\n      <td>94377226</td>\n      <td>1362044</td>\n      <td>530270</td>\n      <td>2903</td>\n      <td>129172</td>\n      <td>127021</td>\n      <td>1833</td>\n      <td>69.29</td>\n    </tr>\n    <tr>\n      <th>1</th>\n      <td>Counter-Strike: Global Offensive</td>\n      <td>2</td>\n      <td>1</td>\n      <td>2016</td>\n      <td>47832863</td>\n      <td>830105</td>\n      <td>372654</td>\n      <td>2197</td>\n      <td>120849</td>\n      <td>64378</td>\n      <td>1117</td>\n      <td>57.62</td>\n    </tr>\n    <tr>\n      <th>2</th>\n      <td>Dota 2</td>\n      <td>3</td>\n      <td>1</td>\n      <td>2016</td>\n      <td>45185893</td>\n      <td>433397</td>\n      <td>315083</td>\n      <td>1100</td>\n      <td>44074</td>\n      <td>60815</td>\n      <td>583</td>\n      <td>104.26</td>\n    </tr>\n    <tr>\n      <th>3</th>\n      <td>Hearthstone</td>\n      <td>4</td>\n      <td>1</td>\n      <td>2016</td>\n      <td>39936159</td>\n      <td>235903</td>\n      <td>131357</td>\n      <td>517</td>\n      <td>36170</td>\n      <td>53749</td>\n      <td>317</td>\n      <td>169.29</td>\n    </tr>\n    <tr>\n      <th>4</th>\n      <td>Call of Duty: Black Ops III</td>\n      <td>5</td>\n      <td>1</td>\n      <td>2016</td>\n      <td>16153057</td>\n      <td>1151578</td>\n      <td>71639</td>\n      <td>3620</td>\n      <td>214054</td>\n      <td>21740</td>\n      <td>1549</td>\n      <td>14.03</td>\n    </tr>\n  </tbody>\n</table>\n</div>"
     },
     "metadata": {},
     "execution_count": 15
    }
   ],
   "source": [
    "game_data = \"./Website/static/csv/Twitch_game_data.csv\"\n",
    "game_df = pd.read_csv(game_data)\n",
    "game_df.head()"
   ]
  },
  {
   "cell_type": "code",
   "execution_count": 31,
   "metadata": {},
   "outputs": [
    {
     "output_type": "execute_result",
     "data": {
      "text/plain": [
       "                   Game  Month  Year  Hours_watched  Hours_Streamed  \\\n",
       "750   League of Legends      1  2020       99657869         2953365   \n",
       "751       Just Chatting      1  2020       88378302         1409820   \n",
       "752  Escape From Tarkov      1  2020       72356308         1043028   \n",
       "753            Fortnite      1  2020       53731549         4399954   \n",
       "754              Dota 2      1  2020       44025208          442024   \n",
       "\n",
       "     Avg_viewers  Avg_channels  \n",
       "750       134129          3974  \n",
       "751       118947          1897  \n",
       "752        97383          1403  \n",
       "753        72317          5921  \n",
       "754        59253           594  "
      ],
      "text/html": "<div>\n<style scoped>\n    .dataframe tbody tr th:only-of-type {\n        vertical-align: middle;\n    }\n\n    .dataframe tbody tr th {\n        vertical-align: top;\n    }\n\n    .dataframe thead th {\n        text-align: right;\n    }\n</style>\n<table border=\"1\" class=\"dataframe\">\n  <thead>\n    <tr style=\"text-align: right;\">\n      <th></th>\n      <th>Game</th>\n      <th>Month</th>\n      <th>Year</th>\n      <th>Hours_watched</th>\n      <th>Hours_Streamed</th>\n      <th>Avg_viewers</th>\n      <th>Avg_channels</th>\n    </tr>\n  </thead>\n  <tbody>\n    <tr>\n      <th>750</th>\n      <td>League of Legends</td>\n      <td>1</td>\n      <td>2020</td>\n      <td>99657869</td>\n      <td>2953365</td>\n      <td>134129</td>\n      <td>3974</td>\n    </tr>\n    <tr>\n      <th>751</th>\n      <td>Just Chatting</td>\n      <td>1</td>\n      <td>2020</td>\n      <td>88378302</td>\n      <td>1409820</td>\n      <td>118947</td>\n      <td>1897</td>\n    </tr>\n    <tr>\n      <th>752</th>\n      <td>Escape From Tarkov</td>\n      <td>1</td>\n      <td>2020</td>\n      <td>72356308</td>\n      <td>1043028</td>\n      <td>97383</td>\n      <td>1403</td>\n    </tr>\n    <tr>\n      <th>753</th>\n      <td>Fortnite</td>\n      <td>1</td>\n      <td>2020</td>\n      <td>53731549</td>\n      <td>4399954</td>\n      <td>72317</td>\n      <td>5921</td>\n    </tr>\n    <tr>\n      <th>754</th>\n      <td>Dota 2</td>\n      <td>1</td>\n      <td>2020</td>\n      <td>44025208</td>\n      <td>442024</td>\n      <td>59253</td>\n      <td>594</td>\n    </tr>\n  </tbody>\n</table>\n</div>"
     },
     "metadata": {},
     "execution_count": 31
    }
   ],
   "source": [
    "clean_game = game_df.loc[:,['Game',\"Month\",\"Year\",\"Hours_watched\",\"Hours_Streamed\",\"Avg_viewers\",\"Avg_channels\"]]\n",
    "clean_game_16 = clean_game.loc[clean_game[\"Year\"] == 2016,['Game',\"Month\",\"Year\",\"Hours_watched\",\"Hours_Streamed\",\"Avg_viewers\",\"Avg_channels\"]]\n",
    "clean_game_17 = clean_game.loc[clean_game[\"Year\"] == 2017,['Game',\"Month\",\"Year\",\"Hours_watched\",\"Hours_Streamed\",\"Avg_viewers\",\"Avg_channels\"]]\n",
    "clean_game_18 = clean_game.loc[clean_game[\"Year\"] == 2018,['Game',\"Month\",\"Year\",\"Hours_watched\",\"Hours_Streamed\",\"Avg_viewers\",\"Avg_channels\"]]\n",
    "clean_game_19 = clean_game.loc[clean_game[\"Year\"] == 2019,['Game',\"Month\",\"Year\",\"Hours_watched\",\"Hours_Streamed\",\"Avg_viewers\",\"Avg_channels\"]]\n",
    "clean_game_20 = clean_game.loc[clean_game[\"Year\"] == 2020,['Game',\"Month\",\"Year\",\"Hours_watched\",\"Hours_Streamed\",\"Avg_viewers\",\"Avg_channels\"]]\n",
    "\n",
    "clean_game_16.head()\n",
    "clean_game_17.head()\n",
    "clean_game_18.head()\n",
    "clean_game_19.head()\n",
    "clean_game_20.head()"
   ]
  },
  {
   "cell_type": "code",
   "execution_count": 53,
   "metadata": {},
   "outputs": [
    {
     "output_type": "execute_result",
     "data": {
      "text/plain": [
       "       Year  Hours_watched  Hours_Streamed  Avg_viewers  Avg_channels\n",
       "Month                                                                \n",
       "1       0.3          414.3            10.1          0.6           0.0\n",
       "2       0.4          415.4            11.0          0.6           0.0\n",
       "3       0.4          464.7            11.7          0.6           0.0\n",
       "4       0.4          441.2            11.4          0.6           0.0\n",
       "5       0.4          427.0            11.6          0.6           0.0\n",
       "6       0.4          421.4            10.8          0.6           0.0\n",
       "7       0.4          413.1            10.5          0.6           0.0\n",
       "8       0.4          402.9            11.1          0.5           0.0\n",
       "9       0.4          360.4            10.1          0.5           0.0\n",
       "10      0.4          421.4            10.9          0.6           0.0\n",
       "11      0.4          419.4            11.3          0.6           0.0\n",
       "12      0.4          455.3            13.0          0.6           0.0"
      ],
      "text/html": "<div>\n<style scoped>\n    .dataframe tbody tr th:only-of-type {\n        vertical-align: middle;\n    }\n\n    .dataframe tbody tr th {\n        vertical-align: top;\n    }\n\n    .dataframe thead th {\n        text-align: right;\n    }\n</style>\n<table border=\"1\" class=\"dataframe\">\n  <thead>\n    <tr style=\"text-align: right;\">\n      <th></th>\n      <th>Year</th>\n      <th>Hours_watched</th>\n      <th>Hours_Streamed</th>\n      <th>Avg_viewers</th>\n      <th>Avg_channels</th>\n    </tr>\n    <tr>\n      <th>Month</th>\n      <th></th>\n      <th></th>\n      <th></th>\n      <th></th>\n      <th></th>\n    </tr>\n  </thead>\n  <tbody>\n    <tr>\n      <th>1</th>\n      <td>0.3</td>\n      <td>414.3</td>\n      <td>10.1</td>\n      <td>0.6</td>\n      <td>0.0</td>\n    </tr>\n    <tr>\n      <th>2</th>\n      <td>0.4</td>\n      <td>415.4</td>\n      <td>11.0</td>\n      <td>0.6</td>\n      <td>0.0</td>\n    </tr>\n    <tr>\n      <th>3</th>\n      <td>0.4</td>\n      <td>464.7</td>\n      <td>11.7</td>\n      <td>0.6</td>\n      <td>0.0</td>\n    </tr>\n    <tr>\n      <th>4</th>\n      <td>0.4</td>\n      <td>441.2</td>\n      <td>11.4</td>\n      <td>0.6</td>\n      <td>0.0</td>\n    </tr>\n    <tr>\n      <th>5</th>\n      <td>0.4</td>\n      <td>427.0</td>\n      <td>11.6</td>\n      <td>0.6</td>\n      <td>0.0</td>\n    </tr>\n    <tr>\n      <th>6</th>\n      <td>0.4</td>\n      <td>421.4</td>\n      <td>10.8</td>\n      <td>0.6</td>\n      <td>0.0</td>\n    </tr>\n    <tr>\n      <th>7</th>\n      <td>0.4</td>\n      <td>413.1</td>\n      <td>10.5</td>\n      <td>0.6</td>\n      <td>0.0</td>\n    </tr>\n    <tr>\n      <th>8</th>\n      <td>0.4</td>\n      <td>402.9</td>\n      <td>11.1</td>\n      <td>0.5</td>\n      <td>0.0</td>\n    </tr>\n    <tr>\n      <th>9</th>\n      <td>0.4</td>\n      <td>360.4</td>\n      <td>10.1</td>\n      <td>0.5</td>\n      <td>0.0</td>\n    </tr>\n    <tr>\n      <th>10</th>\n      <td>0.4</td>\n      <td>421.4</td>\n      <td>10.9</td>\n      <td>0.6</td>\n      <td>0.0</td>\n    </tr>\n    <tr>\n      <th>11</th>\n      <td>0.4</td>\n      <td>419.4</td>\n      <td>11.3</td>\n      <td>0.6</td>\n      <td>0.0</td>\n    </tr>\n    <tr>\n      <th>12</th>\n      <td>0.4</td>\n      <td>455.3</td>\n      <td>13.0</td>\n      <td>0.6</td>\n      <td>0.0</td>\n    </tr>\n  </tbody>\n</table>\n</div>"
     },
     "metadata": {},
     "execution_count": 53
    }
   ],
   "source": [
    "clean_game_16.groupby(\"Month\").sum().div(1000000).round(1)"
   ]
  },
  {
   "cell_type": "code",
   "execution_count": 54,
   "metadata": {},
   "outputs": [
    {
     "output_type": "execute_result",
     "data": {
      "text/plain": [
       "       Year  Hours_watched  Hours_Streamed  Avg_viewers  Avg_channels\n",
       "Month                                                                \n",
       "1       0.4          544.5            13.6          0.7           0.0\n",
       "2       0.4          465.1            12.6          0.7           0.0\n",
       "3       0.4          483.4            13.1          0.7           0.0\n",
       "4       0.4          500.3            12.3          0.7           0.0\n",
       "5       0.4          472.7            12.9          0.6           0.0\n",
       "6       0.4          474.9            13.0          0.7           0.0\n",
       "7       0.4          511.6            14.3          0.7           0.0\n",
       "8       0.4          495.1            14.0          0.7           0.0\n",
       "9       0.4          487.0            14.1          0.7           0.0\n",
       "10      0.4          547.0            14.9          0.7           0.0\n",
       "11      0.4          536.7            14.5          0.7           0.0\n",
       "12      0.4          526.5            16.0          0.7           0.0"
      ],
      "text/html": "<div>\n<style scoped>\n    .dataframe tbody tr th:only-of-type {\n        vertical-align: middle;\n    }\n\n    .dataframe tbody tr th {\n        vertical-align: top;\n    }\n\n    .dataframe thead th {\n        text-align: right;\n    }\n</style>\n<table border=\"1\" class=\"dataframe\">\n  <thead>\n    <tr style=\"text-align: right;\">\n      <th></th>\n      <th>Year</th>\n      <th>Hours_watched</th>\n      <th>Hours_Streamed</th>\n      <th>Avg_viewers</th>\n      <th>Avg_channels</th>\n    </tr>\n    <tr>\n      <th>Month</th>\n      <th></th>\n      <th></th>\n      <th></th>\n      <th></th>\n      <th></th>\n    </tr>\n  </thead>\n  <tbody>\n    <tr>\n      <th>1</th>\n      <td>0.4</td>\n      <td>544.5</td>\n      <td>13.6</td>\n      <td>0.7</td>\n      <td>0.0</td>\n    </tr>\n    <tr>\n      <th>2</th>\n      <td>0.4</td>\n      <td>465.1</td>\n      <td>12.6</td>\n      <td>0.7</td>\n      <td>0.0</td>\n    </tr>\n    <tr>\n      <th>3</th>\n      <td>0.4</td>\n      <td>483.4</td>\n      <td>13.1</td>\n      <td>0.7</td>\n      <td>0.0</td>\n    </tr>\n    <tr>\n      <th>4</th>\n      <td>0.4</td>\n      <td>500.3</td>\n      <td>12.3</td>\n      <td>0.7</td>\n      <td>0.0</td>\n    </tr>\n    <tr>\n      <th>5</th>\n      <td>0.4</td>\n      <td>472.7</td>\n      <td>12.9</td>\n      <td>0.6</td>\n      <td>0.0</td>\n    </tr>\n    <tr>\n      <th>6</th>\n      <td>0.4</td>\n      <td>474.9</td>\n      <td>13.0</td>\n      <td>0.7</td>\n      <td>0.0</td>\n    </tr>\n    <tr>\n      <th>7</th>\n      <td>0.4</td>\n      <td>511.6</td>\n      <td>14.3</td>\n      <td>0.7</td>\n      <td>0.0</td>\n    </tr>\n    <tr>\n      <th>8</th>\n      <td>0.4</td>\n      <td>495.1</td>\n      <td>14.0</td>\n      <td>0.7</td>\n      <td>0.0</td>\n    </tr>\n    <tr>\n      <th>9</th>\n      <td>0.4</td>\n      <td>487.0</td>\n      <td>14.1</td>\n      <td>0.7</td>\n      <td>0.0</td>\n    </tr>\n    <tr>\n      <th>10</th>\n      <td>0.4</td>\n      <td>547.0</td>\n      <td>14.9</td>\n      <td>0.7</td>\n      <td>0.0</td>\n    </tr>\n    <tr>\n      <th>11</th>\n      <td>0.4</td>\n      <td>536.7</td>\n      <td>14.5</td>\n      <td>0.7</td>\n      <td>0.0</td>\n    </tr>\n    <tr>\n      <th>12</th>\n      <td>0.4</td>\n      <td>526.5</td>\n      <td>16.0</td>\n      <td>0.7</td>\n      <td>0.0</td>\n    </tr>\n  </tbody>\n</table>\n</div>"
     },
     "metadata": {},
     "execution_count": 54
    }
   ],
   "source": [
    "clean_game_17.groupby(\"Month\").sum().div(1000000).round(1)"
   ]
  },
  {
   "cell_type": "code",
   "execution_count": 55,
   "metadata": {},
   "outputs": [
    {
     "output_type": "execute_result",
     "data": {
      "text/plain": [
       "       Year  Hours_watched  Hours_Streamed  Avg_viewers  Avg_channels\n",
       "Month                                                                \n",
       "1       0.4          659.7            19.1          0.9           0.0\n",
       "2       0.4          574.7            18.7          0.9           0.0\n",
       "3       0.4          670.4            22.7          0.9           0.0\n",
       "4       0.4          676.9            23.0          0.9           0.0\n",
       "5       0.4          704.2            23.2          0.9           0.0\n",
       "6       0.4          714.8            22.6          1.0           0.0\n",
       "7       0.4          721.2            24.6          1.0           0.0\n",
       "8       0.4          789.2            26.7          1.1           0.0\n",
       "9       0.4          749.2            25.7          1.0           0.0\n",
       "10      0.4          779.9            25.1          1.0           0.0\n",
       "11      0.4          776.2            25.1          1.1           0.0\n",
       "12      0.4          771.8            28.9          1.0           0.0"
      ],
      "text/html": "<div>\n<style scoped>\n    .dataframe tbody tr th:only-of-type {\n        vertical-align: middle;\n    }\n\n    .dataframe tbody tr th {\n        vertical-align: top;\n    }\n\n    .dataframe thead th {\n        text-align: right;\n    }\n</style>\n<table border=\"1\" class=\"dataframe\">\n  <thead>\n    <tr style=\"text-align: right;\">\n      <th></th>\n      <th>Year</th>\n      <th>Hours_watched</th>\n      <th>Hours_Streamed</th>\n      <th>Avg_viewers</th>\n      <th>Avg_channels</th>\n    </tr>\n    <tr>\n      <th>Month</th>\n      <th></th>\n      <th></th>\n      <th></th>\n      <th></th>\n      <th></th>\n    </tr>\n  </thead>\n  <tbody>\n    <tr>\n      <th>1</th>\n      <td>0.4</td>\n      <td>659.7</td>\n      <td>19.1</td>\n      <td>0.9</td>\n      <td>0.0</td>\n    </tr>\n    <tr>\n      <th>2</th>\n      <td>0.4</td>\n      <td>574.7</td>\n      <td>18.7</td>\n      <td>0.9</td>\n      <td>0.0</td>\n    </tr>\n    <tr>\n      <th>3</th>\n      <td>0.4</td>\n      <td>670.4</td>\n      <td>22.7</td>\n      <td>0.9</td>\n      <td>0.0</td>\n    </tr>\n    <tr>\n      <th>4</th>\n      <td>0.4</td>\n      <td>676.9</td>\n      <td>23.0</td>\n      <td>0.9</td>\n      <td>0.0</td>\n    </tr>\n    <tr>\n      <th>5</th>\n      <td>0.4</td>\n      <td>704.2</td>\n      <td>23.2</td>\n      <td>0.9</td>\n      <td>0.0</td>\n    </tr>\n    <tr>\n      <th>6</th>\n      <td>0.4</td>\n      <td>714.8</td>\n      <td>22.6</td>\n      <td>1.0</td>\n      <td>0.0</td>\n    </tr>\n    <tr>\n      <th>7</th>\n      <td>0.4</td>\n      <td>721.2</td>\n      <td>24.6</td>\n      <td>1.0</td>\n      <td>0.0</td>\n    </tr>\n    <tr>\n      <th>8</th>\n      <td>0.4</td>\n      <td>789.2</td>\n      <td>26.7</td>\n      <td>1.1</td>\n      <td>0.0</td>\n    </tr>\n    <tr>\n      <th>9</th>\n      <td>0.4</td>\n      <td>749.2</td>\n      <td>25.7</td>\n      <td>1.0</td>\n      <td>0.0</td>\n    </tr>\n    <tr>\n      <th>10</th>\n      <td>0.4</td>\n      <td>779.9</td>\n      <td>25.1</td>\n      <td>1.0</td>\n      <td>0.0</td>\n    </tr>\n    <tr>\n      <th>11</th>\n      <td>0.4</td>\n      <td>776.2</td>\n      <td>25.1</td>\n      <td>1.1</td>\n      <td>0.0</td>\n    </tr>\n    <tr>\n      <th>12</th>\n      <td>0.4</td>\n      <td>771.8</td>\n      <td>28.9</td>\n      <td>1.0</td>\n      <td>0.0</td>\n    </tr>\n  </tbody>\n</table>\n</div>"
     },
     "metadata": {},
     "execution_count": 55
    }
   ],
   "source": [
    "clean_game_18.groupby(\"Month\").sum().div(1000000).round(1)"
   ]
  },
  {
   "cell_type": "code",
   "execution_count": 56,
   "metadata": {},
   "outputs": [
    {
     "output_type": "execute_result",
     "data": {
      "text/plain": [
       "       Year  Hours_watched  Hours_Streamed  Avg_viewers  Avg_channels\n",
       "Month                                                                \n",
       "1       0.4          846.7            33.4          1.1           0.0\n",
       "2       0.4          810.7            30.6          1.2           0.0\n",
       "3       0.4          870.2            32.6          1.2           0.0\n",
       "4       0.4          812.1            29.1          1.1           0.0\n",
       "5       0.4          852.1            28.2          1.1           0.0\n",
       "6       0.4          846.8            26.9          1.2           0.0\n",
       "7       0.4          835.5            28.2          1.1           0.0\n",
       "8       0.4          918.9            28.6          1.2           0.0\n",
       "9       0.4          810.6            26.3          1.1           0.0\n",
       "10      0.4          820.5            26.3          1.1           0.0\n",
       "11      0.4          806.6            25.4          1.1           0.0\n",
       "12      0.4          798.9            26.5          1.1           0.0"
      ],
      "text/html": "<div>\n<style scoped>\n    .dataframe tbody tr th:only-of-type {\n        vertical-align: middle;\n    }\n\n    .dataframe tbody tr th {\n        vertical-align: top;\n    }\n\n    .dataframe thead th {\n        text-align: right;\n    }\n</style>\n<table border=\"1\" class=\"dataframe\">\n  <thead>\n    <tr style=\"text-align: right;\">\n      <th></th>\n      <th>Year</th>\n      <th>Hours_watched</th>\n      <th>Hours_Streamed</th>\n      <th>Avg_viewers</th>\n      <th>Avg_channels</th>\n    </tr>\n    <tr>\n      <th>Month</th>\n      <th></th>\n      <th></th>\n      <th></th>\n      <th></th>\n      <th></th>\n    </tr>\n  </thead>\n  <tbody>\n    <tr>\n      <th>1</th>\n      <td>0.4</td>\n      <td>846.7</td>\n      <td>33.4</td>\n      <td>1.1</td>\n      <td>0.0</td>\n    </tr>\n    <tr>\n      <th>2</th>\n      <td>0.4</td>\n      <td>810.7</td>\n      <td>30.6</td>\n      <td>1.2</td>\n      <td>0.0</td>\n    </tr>\n    <tr>\n      <th>3</th>\n      <td>0.4</td>\n      <td>870.2</td>\n      <td>32.6</td>\n      <td>1.2</td>\n      <td>0.0</td>\n    </tr>\n    <tr>\n      <th>4</th>\n      <td>0.4</td>\n      <td>812.1</td>\n      <td>29.1</td>\n      <td>1.1</td>\n      <td>0.0</td>\n    </tr>\n    <tr>\n      <th>5</th>\n      <td>0.4</td>\n      <td>852.1</td>\n      <td>28.2</td>\n      <td>1.1</td>\n      <td>0.0</td>\n    </tr>\n    <tr>\n      <th>6</th>\n      <td>0.4</td>\n      <td>846.8</td>\n      <td>26.9</td>\n      <td>1.2</td>\n      <td>0.0</td>\n    </tr>\n    <tr>\n      <th>7</th>\n      <td>0.4</td>\n      <td>835.5</td>\n      <td>28.2</td>\n      <td>1.1</td>\n      <td>0.0</td>\n    </tr>\n    <tr>\n      <th>8</th>\n      <td>0.4</td>\n      <td>918.9</td>\n      <td>28.6</td>\n      <td>1.2</td>\n      <td>0.0</td>\n    </tr>\n    <tr>\n      <th>9</th>\n      <td>0.4</td>\n      <td>810.6</td>\n      <td>26.3</td>\n      <td>1.1</td>\n      <td>0.0</td>\n    </tr>\n    <tr>\n      <th>10</th>\n      <td>0.4</td>\n      <td>820.5</td>\n      <td>26.3</td>\n      <td>1.1</td>\n      <td>0.0</td>\n    </tr>\n    <tr>\n      <th>11</th>\n      <td>0.4</td>\n      <td>806.6</td>\n      <td>25.4</td>\n      <td>1.1</td>\n      <td>0.0</td>\n    </tr>\n    <tr>\n      <th>12</th>\n      <td>0.4</td>\n      <td>798.9</td>\n      <td>26.5</td>\n      <td>1.1</td>\n      <td>0.0</td>\n    </tr>\n  </tbody>\n</table>\n</div>"
     },
     "metadata": {},
     "execution_count": 56
    }
   ],
   "source": [
    "clean_game_19.groupby(\"Month\").sum().div(1000000).round(1)"
   ]
  },
  {
   "cell_type": "code",
   "execution_count": 57,
   "metadata": {},
   "outputs": [
    {
     "output_type": "execute_result",
     "data": {
      "text/plain": [
       "       Year  Hours_watched  Hours_Streamed  Avg_viewers  Avg_channels\n",
       "Month                                                                \n",
       "1       0.4          903.6            30.7          1.2           0.0\n",
       "2       0.4          881.6            29.1          1.3           0.0\n",
       "3       0.4         1108.8            38.6          1.5           0.1\n",
       "4       0.4         1665.3            54.1          2.3           0.1\n",
       "5       0.4         1596.3            59.9          2.1           0.1\n",
       "6       0.4         1491.5            53.6          2.1           0.1\n",
       "7       0.4         1424.2            55.7          1.9           0.1\n",
       "8       0.4         1470.4            55.6          2.0           0.1\n",
       "9       0.4         1444.8            52.5          2.0           0.1\n",
       "10      0.4         1629.3            57.5          2.2           0.1\n",
       "11      0.4         1640.8            59.5          2.3           0.1\n",
       "12      0.4         1719.7            63.5          2.3           0.1"
      ],
      "text/html": "<div>\n<style scoped>\n    .dataframe tbody tr th:only-of-type {\n        vertical-align: middle;\n    }\n\n    .dataframe tbody tr th {\n        vertical-align: top;\n    }\n\n    .dataframe thead th {\n        text-align: right;\n    }\n</style>\n<table border=\"1\" class=\"dataframe\">\n  <thead>\n    <tr style=\"text-align: right;\">\n      <th></th>\n      <th>Year</th>\n      <th>Hours_watched</th>\n      <th>Hours_Streamed</th>\n      <th>Avg_viewers</th>\n      <th>Avg_channels</th>\n    </tr>\n    <tr>\n      <th>Month</th>\n      <th></th>\n      <th></th>\n      <th></th>\n      <th></th>\n      <th></th>\n    </tr>\n  </thead>\n  <tbody>\n    <tr>\n      <th>1</th>\n      <td>0.4</td>\n      <td>903.6</td>\n      <td>30.7</td>\n      <td>1.2</td>\n      <td>0.0</td>\n    </tr>\n    <tr>\n      <th>2</th>\n      <td>0.4</td>\n      <td>881.6</td>\n      <td>29.1</td>\n      <td>1.3</td>\n      <td>0.0</td>\n    </tr>\n    <tr>\n      <th>3</th>\n      <td>0.4</td>\n      <td>1108.8</td>\n      <td>38.6</td>\n      <td>1.5</td>\n      <td>0.1</td>\n    </tr>\n    <tr>\n      <th>4</th>\n      <td>0.4</td>\n      <td>1665.3</td>\n      <td>54.1</td>\n      <td>2.3</td>\n      <td>0.1</td>\n    </tr>\n    <tr>\n      <th>5</th>\n      <td>0.4</td>\n      <td>1596.3</td>\n      <td>59.9</td>\n      <td>2.1</td>\n      <td>0.1</td>\n    </tr>\n    <tr>\n      <th>6</th>\n      <td>0.4</td>\n      <td>1491.5</td>\n      <td>53.6</td>\n      <td>2.1</td>\n      <td>0.1</td>\n    </tr>\n    <tr>\n      <th>7</th>\n      <td>0.4</td>\n      <td>1424.2</td>\n      <td>55.7</td>\n      <td>1.9</td>\n      <td>0.1</td>\n    </tr>\n    <tr>\n      <th>8</th>\n      <td>0.4</td>\n      <td>1470.4</td>\n      <td>55.6</td>\n      <td>2.0</td>\n      <td>0.1</td>\n    </tr>\n    <tr>\n      <th>9</th>\n      <td>0.4</td>\n      <td>1444.8</td>\n      <td>52.5</td>\n      <td>2.0</td>\n      <td>0.1</td>\n    </tr>\n    <tr>\n      <th>10</th>\n      <td>0.4</td>\n      <td>1629.3</td>\n      <td>57.5</td>\n      <td>2.2</td>\n      <td>0.1</td>\n    </tr>\n    <tr>\n      <th>11</th>\n      <td>0.4</td>\n      <td>1640.8</td>\n      <td>59.5</td>\n      <td>2.3</td>\n      <td>0.1</td>\n    </tr>\n    <tr>\n      <th>12</th>\n      <td>0.4</td>\n      <td>1719.7</td>\n      <td>63.5</td>\n      <td>2.3</td>\n      <td>0.1</td>\n    </tr>\n  </tbody>\n</table>\n</div>"
     },
     "metadata": {},
     "execution_count": 57
    }
   ],
   "source": [
    "clean_game_20.groupby(\"Month\").sum().div(1000000).round(1)"
   ]
  },
  {
   "cell_type": "code",
   "execution_count": 65,
   "metadata": {},
   "outputs": [
    {
     "output_type": "execute_result",
     "data": {
      "text/plain": [
       "        Year  Hours_watched  Hours_Streamed  Avg_viewers  Avg_channels\n",
       "Month                                                                 \n",
       "1      404.0       903633.6         30725.4       1216.1          41.2\n",
       "2      404.0       881641.7         29138.6       1268.5          41.8\n",
       "3      404.0      1108801.7         38621.0       1492.2          51.9\n",
       "4      404.0      1665273.0         54058.2       2316.0          75.1\n",
       "5      404.0      1596340.0         59898.4       2148.4          80.5\n",
       "6      404.0      1491496.9         53596.9       2074.3          74.4\n",
       "7      404.0      1424151.5         55694.2       1916.7          74.9\n",
       "8      404.0      1470424.7         55634.3       1978.9          74.8\n",
       "9      404.0      1444835.2         52548.5       2009.4          73.0\n",
       "10     404.0      1629308.3         57494.5       2192.8          77.3\n",
       "11     404.0      1640839.5         59522.6       2282.0          82.7\n",
       "12     404.0      1719727.0         63479.5       2314.5          85.3"
      ],
      "text/html": "<div>\n<style scoped>\n    .dataframe tbody tr th:only-of-type {\n        vertical-align: middle;\n    }\n\n    .dataframe tbody tr th {\n        vertical-align: top;\n    }\n\n    .dataframe thead th {\n        text-align: right;\n    }\n</style>\n<table border=\"1\" class=\"dataframe\">\n  <thead>\n    <tr style=\"text-align: right;\">\n      <th></th>\n      <th>Year</th>\n      <th>Hours_watched</th>\n      <th>Hours_Streamed</th>\n      <th>Avg_viewers</th>\n      <th>Avg_channels</th>\n    </tr>\n    <tr>\n      <th>Month</th>\n      <th></th>\n      <th></th>\n      <th></th>\n      <th></th>\n      <th></th>\n    </tr>\n  </thead>\n  <tbody>\n    <tr>\n      <th>1</th>\n      <td>404.0</td>\n      <td>903633.6</td>\n      <td>30725.4</td>\n      <td>1216.1</td>\n      <td>41.2</td>\n    </tr>\n    <tr>\n      <th>2</th>\n      <td>404.0</td>\n      <td>881641.7</td>\n      <td>29138.6</td>\n      <td>1268.5</td>\n      <td>41.8</td>\n    </tr>\n    <tr>\n      <th>3</th>\n      <td>404.0</td>\n      <td>1108801.7</td>\n      <td>38621.0</td>\n      <td>1492.2</td>\n      <td>51.9</td>\n    </tr>\n    <tr>\n      <th>4</th>\n      <td>404.0</td>\n      <td>1665273.0</td>\n      <td>54058.2</td>\n      <td>2316.0</td>\n      <td>75.1</td>\n    </tr>\n    <tr>\n      <th>5</th>\n      <td>404.0</td>\n      <td>1596340.0</td>\n      <td>59898.4</td>\n      <td>2148.4</td>\n      <td>80.5</td>\n    </tr>\n    <tr>\n      <th>6</th>\n      <td>404.0</td>\n      <td>1491496.9</td>\n      <td>53596.9</td>\n      <td>2074.3</td>\n      <td>74.4</td>\n    </tr>\n    <tr>\n      <th>7</th>\n      <td>404.0</td>\n      <td>1424151.5</td>\n      <td>55694.2</td>\n      <td>1916.7</td>\n      <td>74.9</td>\n    </tr>\n    <tr>\n      <th>8</th>\n      <td>404.0</td>\n      <td>1470424.7</td>\n      <td>55634.3</td>\n      <td>1978.9</td>\n      <td>74.8</td>\n    </tr>\n    <tr>\n      <th>9</th>\n      <td>404.0</td>\n      <td>1444835.2</td>\n      <td>52548.5</td>\n      <td>2009.4</td>\n      <td>73.0</td>\n    </tr>\n    <tr>\n      <th>10</th>\n      <td>404.0</td>\n      <td>1629308.3</td>\n      <td>57494.5</td>\n      <td>2192.8</td>\n      <td>77.3</td>\n    </tr>\n    <tr>\n      <th>11</th>\n      <td>404.0</td>\n      <td>1640839.5</td>\n      <td>59522.6</td>\n      <td>2282.0</td>\n      <td>82.7</td>\n    </tr>\n    <tr>\n      <th>12</th>\n      <td>404.0</td>\n      <td>1719727.0</td>\n      <td>63479.5</td>\n      <td>2314.5</td>\n      <td>85.3</td>\n    </tr>\n  </tbody>\n</table>\n</div>"
     },
     "metadata": {},
     "execution_count": 65
    }
   ],
   "source": [
    "clean_game_20.groupby(\"Month\").sum().div(1000).round(1)"
   ]
  },
  {
   "cell_type": "code",
   "execution_count": null,
   "metadata": {},
   "outputs": [],
   "source": []
  }
 ]
}