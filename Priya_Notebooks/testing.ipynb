{
 "metadata": {
  "language_info": {
   "codemirror_mode": {
    "name": "ipython",
    "version": 3
   },
   "file_extension": ".py",
   "mimetype": "text/x-python",
   "name": "python",
   "nbconvert_exporter": "python",
   "pygments_lexer": "ipython3",
   "version": "3.6.4"
  },
  "orig_nbformat": 2,
  "kernelspec": {
   "name": "python364jvsc74a57bd0a3b5de61d878f304406f236b937d31a1186f9847b1a9314718805f467cc31b17",
   "display_name": "Python 3.6.4 64-bit ('base': conda)"
  }
 },
 "nbformat": 4,
 "nbformat_minor": 2,
 "cells": [
  {
   "cell_type": "code",
   "execution_count": 1,
   "metadata": {},
   "outputs": [
    {
     "output_type": "stream",
     "name": "stdout",
     "text": [
      "Requirement already satisfied: sqlalchemy in /Users/priyamittal/anaconda3/lib/python3.6/site-packages (1.2.1)\n"
     ]
    }
   ],
   "source": [
    "!pip install sqlalchemy"
   ]
  },
  {
   "cell_type": "code",
   "execution_count": 105,
   "metadata": {},
   "outputs": [
    {
     "output_type": "stream",
     "name": "stdout",
     "text": [
      "2021-04-22 14:03:46,084 INFO sqlalchemy.engine.base.Engine SELECT CAST('test plain returns' AS VARCHAR(60)) AS anon_1\n",
      "2021-04-22 14:03:46,084 INFO sqlalchemy.engine.base.Engine ()\n",
      "2021-04-22 14:03:46,086 INFO sqlalchemy.engine.base.Engine SELECT CAST('test unicode returns' AS VARCHAR(60)) AS anon_1\n",
      "2021-04-22 14:03:46,087 INFO sqlalchemy.engine.base.Engine ()\n"
     ]
    }
   ],
   "source": [
    "import sqlalchemy\n",
    "from sqlalchemy.ext.automap import automap_base\n",
    "from sqlalchemy.orm import Session\n",
    "from sqlalchemy import create_engine, inspect, MetaData\n",
    "import pandas as pd\n",
    "\n",
    "engine = create_engine(\"sqlite:///./Website/static/sqlite/twitch.sqlite\",echo = True)\n",
    "metadata = MetaData(bind=engine)\n",
    "Base = automap_base()\n",
    "connection = engine.connect()"
   ]
  },
  {
   "cell_type": "code",
   "execution_count": 106,
   "metadata": {},
   "outputs": [
    {
     "output_type": "stream",
     "name": "stdout",
     "text": [
      "2021-04-22 14:03:46,558 INFO sqlalchemy.engine.base.Engine SELECT name FROM sqlite_master WHERE type='table' ORDER BY name\n",
      "2021-04-22 14:03:46,559 INFO sqlalchemy.engine.base.Engine ()\n",
      "2021-04-22 14:03:46,562 INFO sqlalchemy.engine.base.Engine PRAGMA table_info(\"Twitch_game_data\")\n",
      "2021-04-22 14:03:46,564 INFO sqlalchemy.engine.base.Engine ()\n",
      "2021-04-22 14:03:46,566 INFO sqlalchemy.engine.base.Engine SELECT sql FROM  (SELECT * FROM sqlite_master UNION ALL   SELECT * FROM sqlite_temp_master) WHERE name = 'Twitch_game_data' AND type = 'table'\n",
      "2021-04-22 14:03:46,568 INFO sqlalchemy.engine.base.Engine ()\n",
      "2021-04-22 14:03:46,569 INFO sqlalchemy.engine.base.Engine PRAGMA foreign_key_list(\"Twitch_game_data\")\n",
      "2021-04-22 14:03:46,571 INFO sqlalchemy.engine.base.Engine ()\n",
      "2021-04-22 14:03:46,573 INFO sqlalchemy.engine.base.Engine SELECT sql FROM  (SELECT * FROM sqlite_master UNION ALL   SELECT * FROM sqlite_temp_master) WHERE name = 'Twitch_game_data' AND type = 'table'\n",
      "2021-04-22 14:03:46,575 INFO sqlalchemy.engine.base.Engine ()\n",
      "2021-04-22 14:03:46,577 INFO sqlalchemy.engine.base.Engine PRAGMA index_list(\"Twitch_game_data\")\n",
      "2021-04-22 14:03:46,579 INFO sqlalchemy.engine.base.Engine ()\n",
      "2021-04-22 14:03:46,582 INFO sqlalchemy.engine.base.Engine PRAGMA index_list(\"Twitch_game_data\")\n",
      "2021-04-22 14:03:46,584 INFO sqlalchemy.engine.base.Engine ()\n",
      "2021-04-22 14:03:46,586 INFO sqlalchemy.engine.base.Engine SELECT sql FROM  (SELECT * FROM sqlite_master UNION ALL   SELECT * FROM sqlite_temp_master) WHERE name = 'Twitch_game_data' AND type = 'table'\n",
      "2021-04-22 14:03:46,587 INFO sqlalchemy.engine.base.Engine ()\n",
      "2021-04-22 14:03:46,589 INFO sqlalchemy.engine.base.Engine PRAGMA table_info(\"game_data\")\n",
      "2021-04-22 14:03:46,590 INFO sqlalchemy.engine.base.Engine ()\n",
      "2021-04-22 14:03:46,593 INFO sqlalchemy.engine.base.Engine SELECT sql FROM  (SELECT * FROM sqlite_master UNION ALL   SELECT * FROM sqlite_temp_master) WHERE name = 'game_data' AND type = 'table'\n",
      "2021-04-22 14:03:46,595 INFO sqlalchemy.engine.base.Engine ()\n",
      "2021-04-22 14:03:46,597 INFO sqlalchemy.engine.base.Engine PRAGMA foreign_key_list(\"game_data\")\n",
      "2021-04-22 14:03:46,599 INFO sqlalchemy.engine.base.Engine ()\n",
      "2021-04-22 14:03:46,600 INFO sqlalchemy.engine.base.Engine SELECT sql FROM  (SELECT * FROM sqlite_master UNION ALL   SELECT * FROM sqlite_temp_master) WHERE name = 'game_data' AND type = 'table'\n",
      "2021-04-22 14:03:46,602 INFO sqlalchemy.engine.base.Engine ()\n",
      "2021-04-22 14:03:46,603 INFO sqlalchemy.engine.base.Engine PRAGMA index_list(\"game_data\")\n",
      "2021-04-22 14:03:46,604 INFO sqlalchemy.engine.base.Engine ()\n",
      "2021-04-22 14:03:46,606 INFO sqlalchemy.engine.base.Engine PRAGMA index_list(\"game_data\")\n",
      "2021-04-22 14:03:46,608 INFO sqlalchemy.engine.base.Engine ()\n",
      "2021-04-22 14:03:46,610 INFO sqlalchemy.engine.base.Engine SELECT sql FROM  (SELECT * FROM sqlite_master UNION ALL   SELECT * FROM sqlite_temp_master) WHERE name = 'game_data' AND type = 'table'\n",
      "2021-04-22 14:03:46,611 INFO sqlalchemy.engine.base.Engine ()\n",
      "2021-04-22 14:03:46,613 INFO sqlalchemy.engine.base.Engine PRAGMA table_info(\"top_games\")\n",
      "2021-04-22 14:03:46,614 INFO sqlalchemy.engine.base.Engine ()\n",
      "2021-04-22 14:03:46,616 INFO sqlalchemy.engine.base.Engine SELECT sql FROM  (SELECT * FROM sqlite_master UNION ALL   SELECT * FROM sqlite_temp_master) WHERE name = 'top_games' AND type = 'table'\n",
      "2021-04-22 14:03:46,617 INFO sqlalchemy.engine.base.Engine ()\n",
      "2021-04-22 14:03:46,620 INFO sqlalchemy.engine.base.Engine PRAGMA foreign_key_list(\"top_games\")\n",
      "2021-04-22 14:03:46,622 INFO sqlalchemy.engine.base.Engine ()\n",
      "2021-04-22 14:03:46,624 INFO sqlalchemy.engine.base.Engine SELECT sql FROM  (SELECT * FROM sqlite_master UNION ALL   SELECT * FROM sqlite_temp_master) WHERE name = 'top_games' AND type = 'table'\n",
      "2021-04-22 14:03:46,625 INFO sqlalchemy.engine.base.Engine ()\n",
      "2021-04-22 14:03:46,627 INFO sqlalchemy.engine.base.Engine PRAGMA index_list(\"top_games\")\n",
      "2021-04-22 14:03:46,628 INFO sqlalchemy.engine.base.Engine ()\n",
      "2021-04-22 14:03:46,630 INFO sqlalchemy.engine.base.Engine PRAGMA index_list(\"top_games\")\n",
      "2021-04-22 14:03:46,631 INFO sqlalchemy.engine.base.Engine ()\n",
      "2021-04-22 14:03:46,633 INFO sqlalchemy.engine.base.Engine PRAGMA index_info(\"sqlite_autoindex_top_games_1\")\n",
      "2021-04-22 14:03:46,634 INFO sqlalchemy.engine.base.Engine ()\n",
      "2021-04-22 14:03:46,635 INFO sqlalchemy.engine.base.Engine SELECT sql FROM  (SELECT * FROM sqlite_master UNION ALL   SELECT * FROM sqlite_temp_master) WHERE name = 'top_games' AND type = 'table'\n",
      "2021-04-22 14:03:46,636 INFO sqlalchemy.engine.base.Engine ()\n",
      "2021-04-22 14:03:46,638 INFO sqlalchemy.engine.base.Engine PRAGMA table_info(\"twitch_top_games\")\n",
      "2021-04-22 14:03:46,640 INFO sqlalchemy.engine.base.Engine ()\n",
      "2021-04-22 14:03:46,643 INFO sqlalchemy.engine.base.Engine SELECT sql FROM  (SELECT * FROM sqlite_master UNION ALL   SELECT * FROM sqlite_temp_master) WHERE name = 'twitch_top_games' AND type = 'table'\n",
      "2021-04-22 14:03:46,645 INFO sqlalchemy.engine.base.Engine ()\n",
      "2021-04-22 14:03:46,646 INFO sqlalchemy.engine.base.Engine PRAGMA foreign_key_list(\"twitch_top_games\")\n",
      "2021-04-22 14:03:46,648 INFO sqlalchemy.engine.base.Engine ()\n",
      "2021-04-22 14:03:46,650 INFO sqlalchemy.engine.base.Engine SELECT sql FROM  (SELECT * FROM sqlite_master UNION ALL   SELECT * FROM sqlite_temp_master) WHERE name = 'twitch_top_games' AND type = 'table'\n",
      "2021-04-22 14:03:46,652 INFO sqlalchemy.engine.base.Engine ()\n",
      "2021-04-22 14:03:46,654 INFO sqlalchemy.engine.base.Engine PRAGMA index_list(\"twitch_top_games\")\n",
      "2021-04-22 14:03:46,655 INFO sqlalchemy.engine.base.Engine ()\n",
      "2021-04-22 14:03:46,657 INFO sqlalchemy.engine.base.Engine PRAGMA index_list(\"twitch_top_games\")\n",
      "2021-04-22 14:03:46,659 INFO sqlalchemy.engine.base.Engine ()\n",
      "2021-04-22 14:03:46,661 INFO sqlalchemy.engine.base.Engine SELECT sql FROM  (SELECT * FROM sqlite_master UNION ALL   SELECT * FROM sqlite_temp_master) WHERE name = 'twitch_top_games' AND type = 'table'\n",
      "2021-04-22 14:03:46,663 INFO sqlalchemy.engine.base.Engine ()\n"
     ]
    }
   ],
   "source": [
    "Base.prepare(engine, reflect=True)\n",
    "# Base.metadata.reflect(engine)\n"
   ]
  },
  {
   "cell_type": "code",
   "execution_count": 107,
   "metadata": {},
   "outputs": [
    {
     "output_type": "stream",
     "name": "stdout",
     "text": [
      "['game_data', 'top_games']\n"
     ]
    }
   ],
   "source": [
    "print(Base.classes.keys())"
   ]
  },
  {
   "cell_type": "code",
   "execution_count": 104,
   "metadata": {},
   "outputs": [],
   "source": [
    "users = pd.read_csv('./Website/static/csv/Twitch_game_data.csv')\n"
   ]
  },
  {
   "cell_type": "code",
   "execution_count": 82,
   "metadata": {},
   "outputs": [
    {
     "output_type": "stream",
     "name": "stdout",
     "text": [
      "2021-04-22 13:06:11,871 INFO sqlalchemy.engine.base.Engine PRAGMA table_info(\"game_data\")\n",
      "2021-04-22 13:06:11,872 INFO sqlalchemy.engine.base.Engine ()\n",
      "2021-04-22 13:06:11,878 INFO sqlalchemy.engine.base.Engine BEGIN (implicit)\n",
      "2021-04-22 13:06:12,013 INFO sqlalchemy.engine.base.Engine INSERT INTO game_data (\"Game\", \"Rank\", \"Month\", \"Year\", \"Hours_watched\", \"Hours_Streamed\", \"Peak_viewers\", \"Peak_channels\", \"Streamers\", \"Avg_viewers\", \"Avg_channels\", \"Avg_viewer_ratio\") VALUES (?, ?, ?, ?, ?, ?, ?, ?, ?, ?, ?, ?)\n",
      "2021-04-22 13:06:12,014 INFO sqlalchemy.engine.base.Engine (('League of Legends', 1, 1, 2016, 94377226, 1362044, 530270, 2903, 129172, 127021, 1833, 69.29), ('Counter-Strike: Global Offensive', 2, 1, 2016, 47832863, 830105, 372654, 2197, 120849, 64378, 1117, 57.62), ('Dota 2', 3, 1, 2016, 45185893, 433397, 315083, 1100, 44074, 60815, 583, 104.26), ('Hearthstone', 4, 1, 2016, 39936159, 235903, 131357, 517, 36170, 53749, 317, 169.29), ('Call of Duty: Black Ops III', 5, 1, 2016, 16153057, 1151578, 71639, 3620, 214054, 21740, 1549, 14.03), ('Minecraft', 6, 1, 2016, 10231056, 490002, 64432, 1538, 88820, 13769, 659, 20.88), ('World of Warcraft', 7, 1, 2016, 8771452, 342978, 46130, 1180, 33375, 11805, 461, 25.57), ('Z1: Battle Royale', 8, 1, 2016, 7894571, 205569, 41588, 460, 21396, 10625, 276, 38.4)  ... displaying 10 of 12350 total bound parameter sets ...  ('Fallout 76', 199, 12, 2020, 515422, 79420, 3226, 201, 6147, 693, 106, 6.49), ('Lineage: The Blood Pledge', 200, 12, 2020, 513380, 12613, 5460, 24, 43, 690, 16, 40.7))\n",
      "2021-04-22 13:06:12,047 INFO sqlalchemy.engine.base.Engine COMMIT\n"
     ]
    }
   ],
   "source": [
    "users.to_sql(name='game_data', con=engine, if_exists='append', index=False)\n"
   ]
  },
  {
   "cell_type": "code",
   "execution_count": 108,
   "metadata": {},
   "outputs": [
    {
     "output_type": "stream",
     "name": "stdout",
     "text": [
      "2021-04-22 14:04:21,828 INFO sqlalchemy.engine.base.Engine SELECT name FROM sqlite_master WHERE type='table' ORDER BY name\n",
      "2021-04-22 14:04:21,830 INFO sqlalchemy.engine.base.Engine ()\n"
     ]
    },
    {
     "output_type": "execute_result",
     "data": {
      "text/plain": [
       "['game_data', 'top_games']"
      ]
     },
     "metadata": {},
     "execution_count": 108
    }
   ],
   "source": [
    "inspector = inspect(engine)\n",
    "\n",
    "# Collect the names of tables within the database\n",
    "inspector.get_table_names()"
   ]
  },
  {
   "cell_type": "code",
   "execution_count": null,
   "metadata": {},
   "outputs": [],
   "source": []
  }
 ]
}